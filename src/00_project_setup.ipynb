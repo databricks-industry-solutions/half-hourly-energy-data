{
 "cells": [
  {
   "cell_type": "code",
   "execution_count": 0,
   "metadata": {
    "application/vnd.databricks.v1+cell": {
     "cellMetadata": {
      "byteLimit": 2048000,
      "rowLimit": 10000
     },
     "inputWidgets": {},
     "nuid": "03223092-ced7-4325-8a3f-44724ca309ae",
     "showTitle": false,
     "tableResultSettingsMap": {},
     "title": ""
    }
   },
   "outputs": [],
   "source": [
    "from pyspark.errors import IllegalArgumentException\n",
    "import json\n",
    "import os"
   ]
  },
  {
   "cell_type": "code",
   "execution_count": 0,
   "metadata": {
    "application/vnd.databricks.v1+cell": {
     "cellMetadata": {
      "byteLimit": 2048000,
      "rowLimit": 10000
     },
     "inputWidgets": {},
     "nuid": "7a699f89-b0d1-4c3a-a69d-976292c9c0c7",
     "showTitle": false,
     "tableResultSettingsMap": {},
     "title": ""
    }
   },
   "outputs": [],
   "source": [
    "dbutils.widgets.text('target_catalog', 'solution_acc')\n",
    "dbutils.widgets.text('target_schema', 'energy_forecasting')\n",
    "dbutils.widgets.text('secret_scope', 'stuart')\n",
    "dbutils.widgets.text('secret_key', 'cds-token')\n",
    "dbutils.widgets.text('ignore_errors', 'false')\n",
    "dbutils.widgets.text('clone_raw_data', 'false')\n",
    "dbutils.widgets.text('overwrite_data', 'false')\n",
    "\n",
    "_ignore_errors = dbutils.widgets.get('ignore_errors').lower() == 'true'\n",
    "target_catalog = dbutils.widgets.get('target_catalog')\n",
    "target_schema = dbutils.widgets.get('target_schema')\n",
    "secret_scope = dbutils.widgets.get('secret_scope')\n",
    "secret_key = dbutils.widgets.get('secret_key')\n",
    "clone_raw_data = dbutils.widgets.get('clone_raw_data').lower() == 'true'\n",
    "overwrite_data = dbutils.widgets.get('overwrite_data').lower() == 'true'"
   ]
  },
  {
   "cell_type": "code",
   "execution_count": 0,
   "metadata": {
    "application/vnd.databricks.v1+cell": {
     "cellMetadata": {
      "byteLimit": 2048000,
      "rowLimit": 10000
     },
     "inputWidgets": {},
     "nuid": "67afa173-4727-4f90-bbfe-136939bf03fd",
     "showTitle": false,
     "tableResultSettingsMap": {},
     "title": ""
    }
   },
   "outputs": [],
   "source": [
    "if target_catalog not in spark.catalog.listCatalogs():\n",
    "  print('Target catalog not found, attempting to create')\n",
    "  try: \n",
    "    spark.sql(f\"CREATE CATALOG IF NOT EXISTS {target_catalog}\")\n",
    "  except Exception as E:\n",
    "    print(f'Exception creating catalog, {_ignore_errors=}')\n",
    "    if not _ignore_errors:\n",
    "      raise E\n",
    "\n",
    "\n",
    "if not spark.catalog.databaseExists(f\"{target_catalog}.{target_schema}\"):\n",
    "  spark.sql(f\"CREATE SCHEMA IF NOT EXISTS {target_catalog}.{target_schema}\")\n",
    "\n",
    "print('Creating managed volume in newly created schema')\n",
    "spark.sql(f\"CREATE VOLUME IF NOT EXISTS {target_catalog}.{target_schema}.unstructured_data\")\n",
    "try:\n",
    "   secret_exists = dbutils.secrets.get(secret_scope, secret_key)\n",
    "except IllegalArgumentException as E:\n",
    "  print(\"Missing secret scope or key, please ensure they exist or you have access to them.\")\n",
    "  raise E"
   ]
  },
  {
   "cell_type": "code",
   "execution_count": 0,
   "metadata": {
    "application/vnd.databricks.v1+cell": {
     "cellMetadata": {
      "byteLimit": 2048000,
      "rowLimit": 10000
     },
     "inputWidgets": {},
     "nuid": "f962ba58-0b9c-47c0-8fa6-8d718e70e7c3",
     "showTitle": false,
     "tableResultSettingsMap": {},
     "title": ""
    }
   },
   "outputs": [],
   "source": [
    "if 'config.json' in os.listdir('./includes/'):\n",
    "  print(\"config file found, will overwrite with current run values\")\n",
    "\n",
    "with open('./includes/config.json', 'w') as f:\n",
    "  f.write(json.dumps({\n",
    "    'target_catalog': target_catalog,\n",
    "    'target_schema': target_schema,\n",
    "    'secret_scope': secret_scope,\n",
    "    'secret_key': secret_key,\n",
    "    'clone_raw_data': clone_raw_data,\n",
    "    'overwrite_data': overwrite_data\n",
    "  }))\n"
   ]
  },
  {
   "cell_type": "code",
   "execution_count": 0,
   "metadata": {
    "application/vnd.databricks.v1+cell": {
     "cellMetadata": {
      "byteLimit": 2048000,
      "rowLimit": 10000
     },
     "inputWidgets": {},
     "nuid": "067d774f-dc84-4938-bfdd-188b8f12be06",
     "showTitle": false,
     "tableResultSettingsMap": {},
     "title": ""
    }
   },
   "outputs": [],
   "source": []
  }
 ],
 "metadata": {
  "application/vnd.databricks.v1+notebook": {
   "computePreferences": null,
   "dashboards": [],
   "environmentMetadata": {
    "base_environment": "",
    "environment_version": "2"
   },
   "inputWidgetPreferences": null,
   "language": "python",
   "notebookMetadata": {
    "pythonIndentUnit": 2
   },
   "notebookName": "00_project_setup",
   "widgets": {
    "clone_raw_data": {
     "currentValue": "true",
     "nuid": "c3c53868-7766-444e-85f6-539e98b33188",
     "typedWidgetInfo": {
      "autoCreated": false,
      "defaultValue": "false",
      "label": null,
      "name": "clone_raw_data",
      "options": {
       "widgetDisplayType": "Text",
       "validationRegex": null
      },
      "parameterDataType": "String"
     },
     "widgetInfo": {
      "widgetType": "text",
      "defaultValue": "false",
      "label": null,
      "name": "clone_raw_data",
      "options": {
       "widgetType": "text",
       "autoCreated": null,
       "validationRegex": null
      }
     }
    },
    "ignore_errors": {
     "currentValue": "true",
     "nuid": "2c0fc782-0a57-47fa-91d3-cff650c6d591",
     "typedWidgetInfo": {
      "autoCreated": false,
      "defaultValue": "false",
      "label": null,
      "name": "ignore_errors",
      "options": {
       "widgetDisplayType": "Text",
       "validationRegex": null
      },
      "parameterDataType": "String"
     },
     "widgetInfo": {
      "widgetType": "text",
      "defaultValue": "false",
      "label": null,
      "name": "ignore_errors",
      "options": {
       "widgetType": "text",
       "autoCreated": null,
       "validationRegex": null
      }
     }
    },
    "overwrite_data": {
     "currentValue": "false",
     "nuid": "0bbf44fb-acaa-425b-9f16-b7ca2ba67705",
     "typedWidgetInfo": {
      "autoCreated": false,
      "defaultValue": "false",
      "label": null,
      "name": "overwrite_data",
      "options": {
       "widgetDisplayType": "Text",
       "validationRegex": null
      },
      "parameterDataType": "String"
     },
     "widgetInfo": {
      "widgetType": "text",
      "defaultValue": "false",
      "label": null,
      "name": "overwrite_data",
      "options": {
       "widgetType": "text",
       "autoCreated": null,
       "validationRegex": null
      }
     }
    },
    "secret_key": {
     "currentValue": "cds-token",
     "nuid": "ea476532-2a68-4a92-91c9-1f6b300840da",
     "typedWidgetInfo": {
      "autoCreated": false,
      "defaultValue": "cds-token",
      "label": null,
      "name": "secret_key",
      "options": {
       "widgetDisplayType": "Text",
       "validationRegex": null
      },
      "parameterDataType": "String"
     },
     "widgetInfo": {
      "widgetType": "text",
      "defaultValue": "cds-token",
      "label": null,
      "name": "secret_key",
      "options": {
       "widgetType": "text",
       "autoCreated": null,
       "validationRegex": null
      }
     }
    },
    "secret_scope": {
     "currentValue": "stuart",
     "nuid": "e12328a8-b15c-4a06-9bb1-50195259db30",
     "typedWidgetInfo": {
      "autoCreated": false,
      "defaultValue": "stuart",
      "label": null,
      "name": "secret_scope",
      "options": {
       "widgetDisplayType": "Text",
       "validationRegex": null
      },
      "parameterDataType": "String"
     },
     "widgetInfo": {
      "widgetType": "text",
      "defaultValue": "stuart",
      "label": null,
      "name": "secret_scope",
      "options": {
       "widgetType": "text",
       "autoCreated": null,
       "validationRegex": null
      }
     }
    },
    "target_catalog": {
     "currentValue": "field_eng_slc",
     "nuid": "455cacc5-9f0a-4771-aa34-7beb009259a5",
     "typedWidgetInfo": {
      "autoCreated": false,
      "defaultValue": "solution_acc",
      "label": null,
      "name": "target_catalog",
      "options": {
       "widgetDisplayType": "Text",
       "validationRegex": null
      },
      "parameterDataType": "String"
     },
     "widgetInfo": {
      "widgetType": "text",
      "defaultValue": "solution_acc",
      "label": null,
      "name": "target_catalog",
      "options": {
       "widgetType": "text",
       "autoCreated": null,
       "validationRegex": null
      }
     }
    },
    "target_schema": {
     "currentValue": "energy_sa",
     "nuid": "867f5593-5eb2-4796-8684-03ed773cc3d9",
     "typedWidgetInfo": {
      "autoCreated": false,
      "defaultValue": "energy_forecasting",
      "label": null,
      "name": "target_schema",
      "options": {
       "widgetDisplayType": "Text",
       "validationRegex": null
      },
      "parameterDataType": "String"
     },
     "widgetInfo": {
      "widgetType": "text",
      "defaultValue": "energy_forecasting",
      "label": null,
      "name": "target_schema",
      "options": {
       "widgetType": "text",
       "autoCreated": null,
       "validationRegex": null
      }
     }
    }
   }
  },
  "language_info": {
   "name": "python"
  }
 },
 "nbformat": 4,
 "nbformat_minor": 0
}
