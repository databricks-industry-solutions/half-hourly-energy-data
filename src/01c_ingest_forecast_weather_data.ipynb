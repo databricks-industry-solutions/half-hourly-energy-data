{
 "cells": [
  {
   "cell_type": "markdown",
   "metadata": {
    "application/vnd.databricks.v1+cell": {
     "cellMetadata": {},
     "inputWidgets": {},
     "nuid": "d47f5491-bfad-459e-a268-598d48a896fc",
     "showTitle": false,
     "tableResultSettingsMap": {},
     "title": ""
    }
   },
   "source": [
    "## 01c - acquiring forecast weather data\n",
    "In this notebook, we will obtain medium-range forecast weather data, also produced by the [European Centre for Medium-Range Weather Forecasts (ECMWF)](https://www.ecmwf.int/) and available through their [ECMWF Data Store (ECPDS)](https://www.ecmwf.int/en/forecasts/datasets/open-data).\n",
    "\n",
    "This data is freely available (without registration) but its production is delayed. In general, the forecast model outputs are also at a lower spatial resolution than would be availble for paying subscribers but it will suffice for supporting our example application.\n",
    "\n",
    "You can read much more about the data products provided by ECMWF in their [open data documentation](https://confluence.ecmwf.int/display/DAC/ECMWF+open+data%3A+real-time+forecasts+from+IFS+and+AIFS) but to summarise, we will be using forecasts that are:\n",
    "+ produced by the Integrated Forecasting System (IFS) (i.e. the 'physical' weather model) maintained by ECMWF;\n",
    "+ 'operational' forecasts, the main high-resolution deterministic forecast produced by ECMWF;\n",
    "+ extend out to the next 15-days ahead, initially in 3-hour timesteps (for the first five days), moving to 6-hour steps thereafter;\n",
    "+ published as [GRIB messages](https://confluence.ecmwf.int/display/CKB/What+are+GRIB+files+and+how+can+I+read+them#WhatareGRIBfilesandhowcanIreadthem-HowtoreadGRIBfiles) with a large number of weather variables, which we will subset to just the five we looked at in the historical datasets.\n",
    "\n",
    "ECMWF also produces extended-range ensemble forecasts that go out to 46 days. These have lower spatial resolution and are typically output at daily intervals.\n",
    "\n",
    "We're looking at the bottom row of this diagram:\n",
    "\n",
    "<img src=\"../docs/imgs/energy-sa-ingest-flow.png\" width=\"800\">\n",
    "\n",
    "\n",
    "#### Data licensing\n",
    "\n",
    "As before, we are obliged to state that the ECMWF has not in any way endorsed this demo and remind you to fully read and comply with to their [terms of use](https://apps.ecmwf.int/datasets/licences/general/) when accessing the data.\n",
    "\n",
    "ECMWF Open Data is © 2025 European Centre for Medium-Range Weather Forecasts (ECMWF). \n",
    "\n",
    "This data is published under a Creative Commons Attribution 4.0 International (CC BY 4.0). https://creativecommons.org/licenses/by/4.0/\n",
    "\n",
    "ECMWF does not accept any liability whatsoever for any error or omission in the data, their availability, or for any loss or damage arising from their use.\n",
    "\n",
    "The material presented here has not been modified from its original form."
   ]
  },
  {
   "cell_type": "markdown",
   "metadata": {
    "application/vnd.databricks.v1+cell": {
     "cellMetadata": {},
     "inputWidgets": {},
     "nuid": "109612dc-9843-4252-bc38-cf8981e9281f",
     "showTitle": false,
     "tableResultSettingsMap": {},
     "title": ""
    }
   },
   "source": [
    "### Notebook set-up\n",
    "Installation of dependencies and library imports."
   ]
  },
  {
   "cell_type": "code",
   "execution_count": 0,
   "metadata": {
    "application/vnd.databricks.v1+cell": {
     "cellMetadata": {
      "byteLimit": 2048000,
      "rowLimit": 10000
     },
     "inputWidgets": {},
     "nuid": "775fb0e4-a37e-43fa-87b5-207beb64678a",
     "showTitle": false,
     "tableResultSettingsMap": {},
     "title": ""
    },
    "jupyter": {
     "outputs_hidden": true
    }
   },
   "outputs": [],
   "source": [
    "%run ./includes/common_functions_and_imports"
   ]
  },
  {
   "cell_type": "markdown",
   "metadata": {
    "application/vnd.databricks.v1+cell": {
     "cellMetadata": {},
     "inputWidgets": {},
     "nuid": "1a3cd963-7aed-434a-ac8c-e0987afde923",
     "showTitle": false,
     "tableResultSettingsMap": {},
     "title": ""
    }
   },
   "source": [
    "GRIB files require a native code dependency installed through the `cfgrib` python package. We use this command to check that it has been correctly installed."
   ]
  },
  {
   "cell_type": "code",
   "execution_count": 0,
   "metadata": {
    "application/vnd.databricks.v1+cell": {
     "cellMetadata": {
      "byteLimit": 2048000,
      "rowLimit": 10000
     },
     "inputWidgets": {},
     "nuid": "c01c37ce-e160-4476-a750-adcf2d4c8000",
     "showTitle": false,
     "tableResultSettingsMap": {},
     "title": ""
    }
   },
   "outputs": [],
   "source": [
    "%sh python -m cfgrib selfcheck"
   ]
  },
  {
   "cell_type": "markdown",
   "metadata": {
    "application/vnd.databricks.v1+cell": {
     "cellMetadata": {},
     "inputWidgets": {},
     "nuid": "518ae51b-2b03-455b-98fe-7fbb90c83542",
     "showTitle": false,
     "tableResultSettingsMap": {},
     "title": ""
    }
   },
   "source": [
    "Rather than present the custom datasource reader for this dataset within this notebook, it has been packaged within `utils/datasource.py` and is imported and registered now.\n",
    "\n",
    "The datasource obtains a list of URLs from the ECMWF site, downloads the corresponding GRIB files and then reads and extracts the data using the popular `xarray` package, designed for dealing with multidimensional datasets."
   ]
  },
  {
   "cell_type": "code",
   "execution_count": 0,
   "metadata": {
    "application/vnd.databricks.v1+cell": {
     "cellMetadata": {
      "byteLimit": 2048000,
      "rowLimit": 10000
     },
     "inputWidgets": {},
     "nuid": "8151df78-10dd-4f18-bd3e-18aa161b35f1",
     "showTitle": false,
     "tableResultSettingsMap": {},
     "title": ""
    }
   },
   "outputs": [],
   "source": [
    "from datetime import datetime, UTC, timedelta\n",
    "\n",
    "from pyspark.sql import functions as F"
   ]
  },
  {
   "cell_type": "code",
   "execution_count": 0,
   "metadata": {
    "application/vnd.databricks.v1+cell": {
     "cellMetadata": {
      "byteLimit": 2048000,
      "rowLimit": 10000
     },
     "inputWidgets": {},
     "nuid": "06db248f-9a2d-4ccf-9564-aae18ad0ecb3",
     "showTitle": false,
     "tableResultSettingsMap": {},
     "title": ""
    }
   },
   "outputs": [],
   "source": [
    "%run ./includes/custom_spark_data_source_ifs"
   ]
  },
  {
   "cell_type": "code",
   "execution_count": 0,
   "metadata": {
    "application/vnd.databricks.v1+cell": {
     "cellMetadata": {
      "byteLimit": 2048000,
      "rowLimit": 10000
     },
     "inputWidgets": {},
     "nuid": "a3a3d018-92f5-4eae-8185-e4c4136d51b5",
     "showTitle": false,
     "tableResultSettingsMap": {},
     "title": ""
    }
   },
   "outputs": [],
   "source": [
    "spark.dataSource.register(IFSDataSource)\n",
    "\n",
    "spark.conf.set(\"spark.databricks.delta.formatCheck.enabled\", \"false\")"
   ]
  },
  {
   "cell_type": "markdown",
   "metadata": {
    "application/vnd.databricks.v1+cell": {
     "cellMetadata": {},
     "inputWidgets": {},
     "nuid": "b3c32d61-70b6-4035-84f9-4624a5ce1a3b",
     "showTitle": false,
     "tableResultSettingsMap": {},
     "title": ""
    }
   },
   "source": [
    "### Data filtering\n",
    "#### Spatial filtering\n",
    "Unlike with the historical data access through CDS, we can't filter our downloads by a spatial boundary. Instead, we will read all values and drop any out-of-bounds rows before writing into Delta.\n",
    "#### Time horizon\n",
    "By default, we will download the forecast produced yesterday, since that is guaranteed to be available at any point during the day. Current day forecasts from the 0h UTC run can take up to 9 hours to be published to the open data store."
   ]
  },
  {
   "cell_type": "code",
   "execution_count": 0,
   "metadata": {
    "application/vnd.databricks.v1+cell": {
     "cellMetadata": {
      "byteLimit": 2048000,
      "rowLimit": 10000
     },
     "inputWidgets": {},
     "nuid": "b2daf17c-f923-40e9-99dd-5030e5d2cd72",
     "showTitle": false,
     "tableResultSettingsMap": {},
     "title": ""
    }
   },
   "outputs": [],
   "source": [
    "bbox = {\n",
    "  \"xmin\": -8.25, \"xmax\": 1.75,\n",
    "  \"ymin\": 49.75, \"ymax\": 61.25,\n",
    "  }\n",
    "\n",
    "forecast_date = (\n",
    "  datetime.now() - timedelta(days=1) # D - 1\n",
    "  ).strftime('%Y%m%d')"
   ]
  },
  {
   "cell_type": "markdown",
   "metadata": {
    "application/vnd.databricks.v1+cell": {
     "cellMetadata": {},
     "inputWidgets": {},
     "nuid": "298dae2a-77b8-41d0-967b-79d98e5b55a7",
     "showTitle": false,
     "tableResultSettingsMap": {},
     "title": ""
    }
   },
   "source": [
    "We can now go ahead and read the data and store it in Delta."
   ]
  },
  {
   "cell_type": "code",
   "execution_count": 0,
   "metadata": {
    "application/vnd.databricks.v1+cell": {
     "cellMetadata": {
      "byteLimit": 2048000,
      "rowLimit": 10000
     },
     "inputWidgets": {},
     "nuid": "b08b7b4e-b3a1-408e-92a6-d04f58232805",
     "showTitle": false,
     "tableResultSettingsMap": {},
     "title": ""
    }
   },
   "outputs": [],
   "source": [
    "raw_df = (\n",
    "  spark.read.format(\"ifs\")\n",
    "  .option(\"variables\", \"t2m,u100,v100,ssrd,strd\")\n",
    "  .option(\"forecastDate\", forecast_date)\n",
    "  .option(\"forecastTime\", 0) # midnight model run\n",
    "  .load()\n",
    "  )"
   ]
  },
  {
   "cell_type": "code",
   "execution_count": 0,
   "metadata": {
    "application/vnd.databricks.v1+cell": {
     "cellMetadata": {
      "byteLimit": 2048000,
      "rowLimit": 10000
     },
     "inputWidgets": {},
     "nuid": "3197400c-78be-4afc-9c0e-f9cf061944ab",
     "showTitle": false,
     "tableResultSettingsMap": {},
     "title": ""
    }
   },
   "outputs": [],
   "source": [
    "target_table_name = f\"{CONFIG.target_catalog}.{CONFIG.target_schema}.weather_forecast_raw\"\n",
    "print(f'Saving ifs data to: {target_table_name}')\n",
    "\n",
    "(\n",
    "  raw_df\n",
    "  .where(F.col(\"x\").between(bbox[\"xmin\"], bbox[\"xmax\"]))\n",
    "  .where(F.col(\"y\").between(bbox[\"ymin\"], bbox[\"ymax\"]))\n",
    "  .write.saveAsTable(target_table_name, mode=\"overwrite\")\n",
    ")\n",
    "\n",
    "forecast_df = spark.table(target_table_name)"
   ]
  },
  {
   "cell_type": "markdown",
   "metadata": {
    "application/vnd.databricks.v1+cell": {
     "cellMetadata": {},
     "inputWidgets": {},
     "nuid": "182b4cb3-4979-4a77-982d-43cc775888a4",
     "showTitle": false,
     "tableResultSettingsMap": {},
     "title": ""
    }
   },
   "source": [
    "What does our data look like? How many rows have we ingested?"
   ]
  },
  {
   "cell_type": "code",
   "execution_count": 0,
   "metadata": {
    "application/vnd.databricks.v1+cell": {
     "cellMetadata": {
      "byteLimit": 2048000,
      "rowLimit": 10000
     },
     "inputWidgets": {},
     "nuid": "547e47bc-b49d-4fdd-8f6e-57db7fc379e6",
     "showTitle": false,
     "tableResultSettingsMap": {},
     "title": ""
    }
   },
   "outputs": [],
   "source": [
    "print(f\"{forecast_df.count()=:,}\")"
   ]
  },
  {
   "cell_type": "markdown",
   "metadata": {
    "application/vnd.databricks.v1+cell": {
     "cellMetadata": {},
     "inputWidgets": {},
     "nuid": "433e5a2b-d2f0-4c6f-933e-ab6c212ad13e",
     "showTitle": false,
     "tableResultSettingsMap": {},
     "title": ""
    }
   },
   "source": [
    "Here you can see that the rows are keyed by:\n",
    "* `time` the datetime the forecast was produced;\n",
    "* `valid_time` the time for which the forecast relates;\n",
    "* `variable` the forecast variable; and\n",
    "* spatial dimensions, where:\n",
    "  * `x` represents longitude; and\n",
    "  * `y` represents latitude"
   ]
  },
  {
   "cell_type": "code",
   "execution_count": 0,
   "metadata": {
    "application/vnd.databricks.v1+cell": {
     "cellMetadata": {
      "byteLimit": 2048000,
      "rowLimit": 10000
     },
     "inputWidgets": {},
     "nuid": "d313d39e-479a-4095-8a2a-4d30a7a23ff7",
     "showTitle": false,
     "tableResultSettingsMap": {},
     "title": ""
    }
   },
   "outputs": [],
   "source": [
    "forecast_df.display()"
   ]
  },
  {
   "cell_type": "markdown",
   "metadata": {
    "application/vnd.databricks.v1+cell": {
     "cellMetadata": {},
     "inputWidgets": {},
     "nuid": "7bb51fc4-7239-4821-a74a-8286e92f51f0",
     "showTitle": false,
     "tableResultSettingsMap": {},
     "title": ""
    }
   },
   "source": [
    "How far into the future does the forecast extend?"
   ]
  },
  {
   "cell_type": "code",
   "execution_count": 0,
   "metadata": {
    "application/vnd.databricks.v1+cell": {
     "cellMetadata": {
      "byteLimit": 2048000,
      "rowLimit": 10000
     },
     "inputWidgets": {},
     "nuid": "e0944fd8-0a94-4242-b3fa-9303aba72f81",
     "showTitle": false,
     "tableResultSettingsMap": {},
     "title": ""
    }
   },
   "outputs": [],
   "source": [
    "timesteps = forecast_df.select(\"valid_time\").distinct()\n",
    "print(f\"{timesteps.count()=:,}\")"
   ]
  },
  {
   "cell_type": "code",
   "execution_count": 0,
   "metadata": {
    "application/vnd.databricks.v1+cell": {
     "cellMetadata": {
      "byteLimit": 2048000,
      "rowLimit": 10000
     },
     "inputWidgets": {},
     "nuid": "fbb75b95-e10d-4429-bde5-e9c6b0035b60",
     "showTitle": false,
     "tableResultSettingsMap": {},
     "title": ""
    }
   },
   "outputs": [],
   "source": [
    "display(\n",
    "  timesteps.groupBy().agg(\n",
    "  F.min(\"valid_time\").alias(\"first\"),\n",
    "  F.max(\"valid_time\").alias(\"last\"),\n",
    "  )\n",
    ")"
   ]
  },
  {
   "cell_type": "code",
   "execution_count": 0,
   "metadata": {
    "application/vnd.databricks.v1+cell": {
     "cellMetadata": {
      "byteLimit": 2048000,
      "rowLimit": 10000
     },
     "inputWidgets": {},
     "nuid": "c7e5ddf9-80bc-4e37-9920-4e841ffdaa20",
     "showTitle": false,
     "tableResultSettingsMap": {},
     "title": ""
    }
   },
   "outputs": [],
   "source": [
    "dbutils.notebook.exit(\"0\")"
   ]
  }
 ],
 "metadata": {
  "application/vnd.databricks.v1+notebook": {
   "computePreferences": null,
   "dashboards": [],
   "environmentMetadata": {
    "base_environment": "",
    "environment_version": "2"
   },
   "inputWidgetPreferences": null,
   "language": "python",
   "notebookMetadata": {
    "mostRecentlyExecutedCommandWithImplicitDF": {
     "commandId": 3667638036636934,
     "dataframes": [
      "_sqldf"
     ]
    },
    "pythonIndentUnit": 2
   },
   "notebookName": "01c_ingest_forecast_weather_data",
   "widgets": {}
  },
  "language_info": {
   "name": "python"
  }
 },
 "nbformat": 4,
 "nbformat_minor": 0
}
