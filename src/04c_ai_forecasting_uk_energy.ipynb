{
 "cells": [
  {
   "cell_type": "markdown",
   "metadata": {
    "application/vnd.databricks.v1+cell": {
     "cellMetadata": {},
     "inputWidgets": {},
     "nuid": "5f680cdd-b602-431b-b346-3e04c25e0a79",
     "showTitle": false,
     "tableResultSettingsMap": {},
     "title": ""
    }
   },
   "source": [
    "# 04 - Forecasting with `ai_forecast()` in DBSQL \n",
    "\n",
    "We're looking at the following flow:\n",
    "\n",
    "<img src=\"../docs/imgs/energy-sa-forecasting-ai.png\" width=\"300\">\n",
    "\n",
    "This notebook creates forecast tables for UK energy data at two granularities—daily and 30-minute—using Databricks’ [AI_FORECAST](https://learn.microsoft.com/en-us/azure/databricks/sql/language-manual/functions/ai_forecast). `ai_forecast()` is a table-valued function designed to extrapolate time series data into the future. It will need to be enabled for your workspace by an administrator to successfully execute this notebook."
   ]
  },
  {
   "cell_type": "code",
   "execution_count": 0,
   "metadata": {
    "application/vnd.databricks.v1+cell": {
     "cellMetadata": {
      "byteLimit": 2048000,
      "rowLimit": 10000
     },
     "inputWidgets": {},
     "nuid": "814c86d5-ec4f-4be8-b31b-20cf34742dd8",
     "showTitle": false,
     "tableResultSettingsMap": {},
     "title": ""
    }
   },
   "outputs": [],
   "source": [
    "%run ./includes/common_functions_and_imports"
   ]
  },
  {
   "cell_type": "markdown",
   "metadata": {
    "application/vnd.databricks.v1+cell": {
     "cellMetadata": {},
     "inputWidgets": {},
     "nuid": "860ee867-815c-42ae-ab34-08ff7aac5485",
     "showTitle": false,
     "tableResultSettingsMap": {},
     "title": ""
    }
   },
   "source": [
    "Since we are working with Databricks SQL in a notebook, parameters work slightly differently. They must be exposed as notebook parameters for the SQL interpreter to be able to access them, so we are going to set up our widgets based on the config parameters."
   ]
  },
  {
   "cell_type": "code",
   "execution_count": 0,
   "metadata": {
    "application/vnd.databricks.v1+cell": {
     "cellMetadata": {
      "byteLimit": 2048000,
      "rowLimit": 10000
     },
     "inputWidgets": {},
     "nuid": "a5bc32e9-2d00-4d64-8111-881d070be9fa",
     "showTitle": false,
     "tableResultSettingsMap": {},
     "title": ""
    }
   },
   "outputs": [],
   "source": [
    "dbutils.widgets.text(\"catalog_name\", defaultValue=CONFIG.target_catalog, label=\"Catalog Name\")\n",
    "dbutils.widgets.text(\"schema_name\", defaultValue=CONFIG.target_schema, label=\"Schema Name\")\n",
    "dbutils.widgets.text(\"input_table_name\", defaultValue=\"unscaled_train_features\", label=\"Input Table Name\")\n",
    "dbutils.widgets.text(\"target_table_name_finegrain\", defaultValue=\"ai_forecast_uk_energy_30min\", label=\"Output Table Name\")\n",
    "dbutils.widgets.text(\"target_table_name_daily\", defaultValue=\"ai_forecast_uk_energy_daily\", label=\"Daily Output Table Name\")\n",
    "# Test data\n",
    "dbutils.widgets.text(\"test_dataset_name\", defaultValue=\"unscaled_test_features\", label=\"Test Table Name\")\n",
    "dbutils.widgets.text(\"target_table_name_daily_test\", defaultValue=\"ai_test_uk_energy_daily\", label=\"Daily Output Table Name\")\n",
    "\n",
    "# Quickly error check that the fully qualified input table exists\n",
    "input_table_name = dbutils.widgets.get('input_table_name')\n",
    "input_fqn = (\n",
    "    f\"{CONFIG.target_catalog}.{CONFIG.target_schema}.{input_table_name}\"\n",
    ")\n",
    "if not spark.catalog.tableExists(input_fqn):\n",
    "  dbutils.notebook.exit('Source table does not exist')"
   ]
  },
  {
   "cell_type": "code",
   "execution_count": 0,
   "metadata": {
    "application/vnd.databricks.v1+cell": {
     "cellMetadata": {
      "byteLimit": 2048000,
      "implicitDf": true,
      "rowLimit": 10000
     },
     "inputWidgets": {},
     "nuid": "e54def39-0bfa-47db-acdb-792a3838399b",
     "showTitle": true,
     "tableResultSettingsMap": {},
     "title": "Create our test dataset at daily level"
    }
   },
   "outputs": [],
   "source": [
    "%sql\n",
    "CREATE OR REPLACE TABLE IDENTIFIER(concat_ws('.', :catalog_name, :schema_name, :target_table_name_daily_test)) AS\n",
    "  SELECT\n",
    "    DATE(data_collection_log_timestamp) AS ts,   \n",
    "    lv_feeder_unique_id,\n",
    "    SUM(normalized_consumption_kwh) AS daily_normalized_consumption_kwh\n",
    "  FROM\n",
    "    IDENTIFIER(concat_ws('.', :catalog_name, :schema_name, :test_dataset_name))\n",
    "  GROUP BY\n",
    "    DATE(data_collection_log_timestamp), lv_feeder_unique_id"
   ]
  },
  {
   "cell_type": "code",
   "execution_count": 0,
   "metadata": {
    "application/vnd.databricks.v1+cell": {
     "cellMetadata": {
      "byteLimit": 2048000,
      "implicitDf": true,
      "rowLimit": 10000
     },
     "inputWidgets": {},
     "nuid": "90537328-0aa4-4467-83c8-499519bdc51d",
     "showTitle": true,
     "tableResultSettingsMap": {},
     "title": "Create our daily predictions"
    }
   },
   "outputs": [],
   "source": [
    "%sql\n",
    "CREATE OR REPLACE TABLE IDENTIFIER(concat_ws('.', :catalog_name, :schema_name, :target_table_name_daily)) AS\n",
    "WITH aggregated AS (\n",
    "  SELECT\n",
    "    DATE(data_collection_log_timestamp) AS ts,   \n",
    "    lv_feeder_unique_id,\n",
    "    SUM(normalized_consumption_kwh) AS daily_normalized_consumption_kwh\n",
    "  FROM\n",
    "    IDENTIFIER(concat_ws('.', :catalog_name, :schema_name, :input_table_name))\n",
    "  GROUP BY\n",
    "    DATE(data_collection_log_timestamp), lv_feeder_unique_id\n",
    ")\n",
    "SELECT * FROM AI_FORECAST(\n",
    "  TABLE(\n",
    "    SELECT\n",
    "      ts,\n",
    "      lv_feeder_unique_id,\n",
    "      daily_normalized_consumption_kwh\n",
    "    FROM aggregated\n",
    "  ),\n",
    "  horizon => '2025-03-29',\n",
    "  time_col => 'ts',\n",
    "  value_col => 'daily_normalized_consumption_kwh',\n",
    "  group_col => 'lv_feeder_unique_id',\n",
    "  seed => 23\n",
    ")"
   ]
  },
  {
   "cell_type": "code",
   "execution_count": 0,
   "metadata": {
    "application/vnd.databricks.v1+cell": {
     "cellMetadata": {
      "byteLimit": 2048000,
      "implicitDf": true,
      "rowLimit": 10000
     },
     "inputWidgets": {},
     "nuid": "1777f4ec-795a-4fb3-8427-9afa93ca823f",
     "showTitle": true,
     "tableResultSettingsMap": {},
     "title": "Create our 30min predictions"
    }
   },
   "outputs": [],
   "source": [
    "%sql\n",
    "CREATE OR REPLACE TABLE IDENTIFIER(concat_ws('.', :catalog_name, :schema_name, :target_table_name_finegrain)) (\n",
    "SELECT * FROM AI_FORECAST(\n",
    "  TABLE(\n",
    "    SELECT\n",
    "        data_collection_log_timestamp,\n",
    "        lv_feeder_unique_id,\n",
    "        normalized_consumption_kwh\n",
    "    FROM IDENTIFIER(concat_ws('.', :catalog_name, :schema_name, :input_table_name))\n",
    "  ),\n",
    "  horizon => '2025-03-29',\n",
    "  time_col => 'data_collection_log_timestamp',\n",
    "  value_col => 'normalized_consumption_kwh',\n",
    "  group_col => 'lv_feeder_unique_id',\n",
    "  seed => 23\n",
    ")\n",
    ")"
   ]
  }
 ],
 "metadata": {
  "application/vnd.databricks.v1+notebook": {
   "computePreferences": null,
   "dashboards": [],
   "environmentMetadata": {
    "base_environment": "",
    "environment_version": "2"
   },
   "inputWidgetPreferences": null,
   "language": "python",
   "notebookMetadata": {
    "mostRecentlyExecutedCommandWithImplicitDF": {
     "commandId": 2818997009283146,
     "dataframes": [
      "_sqldf"
     ]
    },
    "pythonIndentUnit": 2,
    "widgetLayout": []
   },
   "notebookName": "04c_ai_forecasting_uk_energy",
   "widgets": {
    "catalog_name": {
     "currentValue": "field_eng_slc",
     "nuid": "d5d870e6-42a1-4e14-9854-68d2fc4e6701",
     "typedWidgetInfo": {
      "autoCreated": false,
      "defaultValue": "field_eng_slc",
      "label": "Catalog Name",
      "name": "catalog_name",
      "options": {
       "widgetDisplayType": "Text",
       "validationRegex": null
      },
      "parameterDataType": "String"
     },
     "widgetInfo": {
      "widgetType": "text",
      "defaultValue": "field_eng_slc",
      "label": "Catalog Name",
      "name": "catalog_name",
      "options": {
       "widgetType": "text",
       "autoCreated": null,
       "validationRegex": null
      }
     }
    },
    "input_table_name": {
     "currentValue": "unscaled_train_features",
     "nuid": "98471375-01dc-45be-9f72-6368ac7fcb91",
     "typedWidgetInfo": {
      "autoCreated": false,
      "defaultValue": "unscaled_train_features",
      "label": "Input Table Name",
      "name": "input_table_name",
      "options": {
       "widgetDisplayType": "Text",
       "validationRegex": null
      },
      "parameterDataType": "String"
     },
     "widgetInfo": {
      "widgetType": "text",
      "defaultValue": "unscaled_train_features",
      "label": "Input Table Name",
      "name": "input_table_name",
      "options": {
       "widgetType": "text",
       "autoCreated": null,
       "validationRegex": null
      }
     }
    },
    "schema_name": {
     "currentValue": "energy_sa",
     "nuid": "debf0c21-0afa-49b0-927b-b1868dd2cda4",
     "typedWidgetInfo": {
      "autoCreated": false,
      "defaultValue": "energy_sa",
      "label": "Schema Name",
      "name": "schema_name",
      "options": {
       "widgetDisplayType": "Text",
       "validationRegex": null
      },
      "parameterDataType": "String"
     },
     "widgetInfo": {
      "widgetType": "text",
      "defaultValue": "energy_sa",
      "label": "Schema Name",
      "name": "schema_name",
      "options": {
       "widgetType": "text",
       "autoCreated": null,
       "validationRegex": null
      }
     }
    },
    "target_table_name_daily": {
     "currentValue": "ai_forecast_uk_energy_daily",
     "nuid": "5d0bf730-b7c8-4533-acb3-863bad8651cc",
     "typedWidgetInfo": {
      "autoCreated": false,
      "defaultValue": "ai_forecast_uk_energy_daily",
      "label": "Daily Output Table Name",
      "name": "target_table_name_daily",
      "options": {
       "widgetDisplayType": "Text",
       "validationRegex": null
      },
      "parameterDataType": "String"
     },
     "widgetInfo": {
      "widgetType": "text",
      "defaultValue": "ai_forecast_uk_energy_daily",
      "label": "Daily Output Table Name",
      "name": "target_table_name_daily",
      "options": {
       "widgetType": "text",
       "autoCreated": null,
       "validationRegex": null
      }
     }
    },
    "target_table_name_daily_test": {
     "currentValue": "ai_test_uk_energy_daily",
     "nuid": "1ee6c1e9-ba5e-4979-8174-e337a5d189d8",
     "typedWidgetInfo": {
      "autoCreated": false,
      "defaultValue": "ai_test_uk_energy_daily",
      "label": "Daily Output Table Name",
      "name": "target_table_name_daily_test",
      "options": {
       "widgetDisplayType": "Text",
       "validationRegex": null
      },
      "parameterDataType": "String"
     },
     "widgetInfo": {
      "widgetType": "text",
      "defaultValue": "ai_test_uk_energy_daily",
      "label": "Daily Output Table Name",
      "name": "target_table_name_daily_test",
      "options": {
       "widgetType": "text",
       "autoCreated": null,
       "validationRegex": null
      }
     }
    },
    "target_table_name_finegrain": {
     "currentValue": "ai_forecast_uk_energy_30min",
     "nuid": "c62d299a-b0dc-4144-8a0c-6f1d3bab3465",
     "typedWidgetInfo": {
      "autoCreated": false,
      "defaultValue": "ai_forecast_uk_energy_30min",
      "label": "Output Table Name",
      "name": "target_table_name_finegrain",
      "options": {
       "widgetDisplayType": "Text",
       "validationRegex": null
      },
      "parameterDataType": "String"
     },
     "widgetInfo": {
      "widgetType": "text",
      "defaultValue": "ai_forecast_uk_energy_30min",
      "label": "Output Table Name",
      "name": "target_table_name_finegrain",
      "options": {
       "widgetType": "text",
       "autoCreated": null,
       "validationRegex": null
      }
     }
    },
    "test_dataset_name": {
     "currentValue": "unscaled_test_features",
     "nuid": "ebfd0d88-5548-4855-9ab7-acf3bcd44fae",
     "typedWidgetInfo": {
      "autoCreated": false,
      "defaultValue": "unscaled_test_features",
      "label": "Test Table Name",
      "name": "test_dataset_name",
      "options": {
       "widgetDisplayType": "Text",
       "validationRegex": null
      },
      "parameterDataType": "String"
     },
     "widgetInfo": {
      "widgetType": "text",
      "defaultValue": "unscaled_test_features",
      "label": "Test Table Name",
      "name": "test_dataset_name",
      "options": {
       "widgetType": "text",
       "autoCreated": null,
       "validationRegex": null
      }
     }
    }
   }
  },
  "language_info": {
   "name": "python"
  }
 },
 "nbformat": 4,
 "nbformat_minor": 0
}
