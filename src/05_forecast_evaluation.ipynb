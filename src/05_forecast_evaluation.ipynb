{
 "cells": [
  {
   "cell_type": "markdown",
   "metadata": {
    "application/vnd.databricks.v1+cell": {
     "cellMetadata": {},
     "inputWidgets": {},
     "nuid": "e8cceb03-5d8b-4727-9077-9a9cb3df2d99",
     "showTitle": false,
     "tableResultSettingsMap": {},
     "title": ""
    }
   },
   "source": [
    "# UK Energy AI Forecasting Evaluation"
   ]
  },
  {
   "cell_type": "markdown",
   "metadata": {
    "application/vnd.databricks.v1+cell": {
     "cellMetadata": {},
     "inputWidgets": {},
     "nuid": "ef580e41-e64f-4e30-8752-c7a0d1eeb57e",
     "showTitle": false,
     "tableResultSettingsMap": {},
     "title": ""
    }
   },
   "source": [
    "\n",
    "This notebook evaluates two forecasting models: \n",
    "1. Using 30-minute granularity \n",
    "2. Using daily aggregates \n",
    "<br>By comparing forecasted values with ground truth. \n",
    "<br>We assess model performance globally as well as per low voltage feeder (lve_feeder) using common error metrics: MAE, MSE, RMSE, MAPE, and SMAPE.\n",
    "\n",
    "We're at the final stage and will be looking at the following:\n",
    "\n",
    "<img src=\"../docs/imgs/energy-sa-evaluation.png\" width=\"200\">\n",
    "\n",
    "Now is a good time to pause!\n",
    "Training a good model is hard. The results in this notebook will be unsurprising - the approach we have taken to the specific models here are naivë. The focus is on the end to end framework for training and evaluating models in this space. A more comprehensive approach would look at making individual feeder, or meter level forecasts and aggregating up to get a portfolio level prediction.\n",
    "\n",
    "Luckily, there is an accelerator that looks at many model forecasting, [publically available here](https://github.com/databricks-industry-solutions/ray-framework-on-databricks/tree/main/Many_Models_Training)."
   ]
  },
  {
   "cell_type": "code",
   "execution_count": 0,
   "metadata": {
    "application/vnd.databricks.v1+cell": {
     "cellMetadata": {
      "byteLimit": 2048000,
      "rowLimit": 10000
     },
     "inputWidgets": {},
     "nuid": "27fbde6c-1ee6-43e4-89c8-547126ce3050",
     "showTitle": false,
     "tableResultSettingsMap": {},
     "title": ""
    },
    "jupyter": {
     "outputs_hidden": true
    }
   },
   "outputs": [],
   "source": [
    "%run ./includes/common_functions_and_imports"
   ]
  },
  {
   "cell_type": "code",
   "execution_count": 0,
   "metadata": {
    "application/vnd.databricks.v1+cell": {
     "cellMetadata": {
      "byteLimit": 2048000,
      "rowLimit": 10000
     },
     "inputWidgets": {},
     "nuid": "21c40aae-ddc6-4db7-9355-04e3afea02dc",
     "showTitle": false,
     "tableResultSettingsMap": {},
     "title": ""
    }
   },
   "outputs": [],
   "source": [
    "from pyspark.sql import functions as F\n",
    "from sklearn.metrics import mean_absolute_error, mean_squared_error, mean_absolute_percentage_error\n",
    "import numpy as np\n",
    "import mlflow\n",
    "import matplotlib.pyplot as plt\n"
   ]
  },
  {
   "cell_type": "markdown",
   "metadata": {
    "application/vnd.databricks.v1+cell": {
     "cellMetadata": {},
     "inputWidgets": {},
     "nuid": "fc487935-1a51-4930-ae96-53e00a33a057",
     "showTitle": false,
     "tableResultSettingsMap": {},
     "title": ""
    }
   },
   "source": [
    "## Data Loading and Preparation\n",
    "Data Sources:\n",
    "\n",
    "* 30-minute forecasts and ground truth \n",
    "* Daily forecasts and ground truth\n",
    "\n",
    "Joins:\n",
    "Forecast and ground truth are joined on keys such as lv_feeder_unique_id and timestamps (data_collection_log_timestamp or ts) to form consolidated DataFrames (i.e., joined_df and daily_joined_df).\n"
   ]
  },
  {
   "cell_type": "code",
   "execution_count": 0,
   "metadata": {
    "application/vnd.databricks.v1+cell": {
     "cellMetadata": {
      "byteLimit": 2048000,
      "rowLimit": 10000
     },
     "inputWidgets": {},
     "nuid": "168c403f-c490-47f0-ab8a-7d639c16e967",
     "showTitle": true,
     "tableResultSettingsMap": {},
     "title": "Setup parameters and check table existence"
    }
   },
   "outputs": [],
   "source": [
    "table_prefix = f\"{CONFIG.target_catalog}.{CONFIG.target_schema}\"\n",
    "\n",
    "thirtymin_univariate_table_name = f\"{table_prefix}.ai_forecast_uk_energy_30min\"\n",
    "thirtymin_univariate_ground_truth_table = f\"{table_prefix}.unscaled_test_features\"\n",
    "\n",
    "ai_daily_table_name = f\"{table_prefix}.ai_forecast_uk_energy_daily\"\n",
    "prophet_daily_forecast_table = f\"{table_prefix}.predictions_daily_forecast_scaled\"\n",
    "prophet_unscaled_daily_forecast_table = (\n",
    "    f\"{table_prefix}.predictions_daily_forecast_exogenous_noscaling_ext\"\n",
    ")\n",
    "daily_min_ground_truth_table = f\"{table_prefix}.ai_test_uk_energy_daily\"\n",
    "\n",
    "tables_to_check = [\n",
    "    thirtymin_univariate_table_name,\n",
    "    thirtymin_univariate_ground_truth_table,\n",
    "    ai_daily_table_name,\n",
    "    prophet_daily_forecast_table,\n",
    "    prophet_unscaled_daily_forecast_table,\n",
    "    daily_min_ground_truth_table,\n",
    "]\n",
    "table_existence_check = [spark.catalog.tableExists(t) for t in tables_to_check]\n",
    "\n",
    "if not all(table_existence_check):\n",
    "    dbutils.notebook.exit(\"One of our source tables does not exist\")"
   ]
  },
  {
   "cell_type": "code",
   "execution_count": 0,
   "metadata": {
    "application/vnd.databricks.v1+cell": {
     "cellMetadata": {
      "byteLimit": 2048000,
      "rowLimit": 10000
     },
     "inputWidgets": {},
     "nuid": "88dd25fa-2c19-46e2-9387-3101a564379d",
     "showTitle": true,
     "tableResultSettingsMap": {},
     "title": "read tables in and join forecast against actual"
    }
   },
   "outputs": [],
   "source": [
    "# half-hourly\n",
    "forecast_df = spark.table(thirtymin_univariate_table_name)\n",
    "ground_truth_df = spark.table(thirtymin_univariate_ground_truth_table)\n",
    "# daily\n",
    "daily_forecast_df = spark.table(ai_daily_table_name)\n",
    "daily_ground_truth_df = spark.table(daily_min_ground_truth_table)\n",
    "\n",
    "df_exo_unscaled_pred = spark.table(prophet_unscaled_daily_forecast_table).withColumnRenamed(\"ds\", \"ts\")  \n",
    "df_exo_pred = spark.table(prophet_daily_forecast_table).withColumnRenamed(\"ds\", \"ts\") \n",
    "\n",
    "joined_df = forecast_df.join(ground_truth_df, on=[\"lv_feeder_unique_id\", \"data_collection_log_timestamp\"], how=\"inner\")\n",
    "daily_joined_df = daily_forecast_df.join(daily_ground_truth_df, on=[\"lv_feeder_unique_id\", \"ts\"], how=\"inner\")"
   ]
  },
  {
   "cell_type": "code",
   "execution_count": 0,
   "metadata": {
    "application/vnd.databricks.v1+cell": {
     "cellMetadata": {
      "byteLimit": 2048000,
      "rowLimit": 10000
     },
     "inputWidgets": {},
     "nuid": "2aa831ab-b60d-43c9-a568-86583aa9d686",
     "showTitle": false,
     "tableResultSettingsMap": {},
     "title": ""
    }
   },
   "outputs": [],
   "source": [
    "forecast_df.printSchema()"
   ]
  },
  {
   "cell_type": "code",
   "execution_count": 0,
   "metadata": {
    "application/vnd.databricks.v1+cell": {
     "cellMetadata": {
      "byteLimit": 2048000,
      "rowLimit": 10000
     },
     "inputWidgets": {},
     "nuid": "3def596a-8b9e-4630-bcbd-cdae3e82f84b",
     "showTitle": false,
     "tableResultSettingsMap": {},
     "title": ""
    }
   },
   "outputs": [],
   "source": [
    "joined_df.show(5)"
   ]
  },
  {
   "cell_type": "code",
   "execution_count": 0,
   "metadata": {
    "application/vnd.databricks.v1+cell": {
     "cellMetadata": {
      "byteLimit": 2048000,
      "rowLimit": 10000
     },
     "inputWidgets": {},
     "nuid": "9ce05bfe-0d83-439f-b5b1-d3f74bcc0b33",
     "showTitle": false,
     "tableResultSettingsMap": {},
     "title": ""
    }
   },
   "outputs": [],
   "source": [
    "daily_joined_df.show(5)"
   ]
  },
  {
   "cell_type": "markdown",
   "metadata": {
    "application/vnd.databricks.v1+cell": {
     "cellMetadata": {},
     "inputWidgets": {},
     "nuid": "2619824b-f2f1-471e-ad1a-72c4675a5f99",
     "showTitle": false,
     "tableResultSettingsMap": {},
     "title": ""
    }
   },
   "source": [
    "\n",
    "## Metrics Calculation Functions\n",
    "Two functions are defined for evaluating the forecast accuracy:\n",
    "\n",
    "1. `calculate_overall_metrics(df, ground_truth_col, forecast_col)`:\n",
    "This function computes global (overall) metrics by:\n",
    "\n",
    "  * Calculating per-row errors (absolute, squared, percentage, and symmetric percentage errors).\n",
    "\n",
    "  * Aggregating these errors to generate MAE, MSE, RMSE, MAPE, and SMAPE values.\n",
    "\n",
    "2. `calculate_group_metrics(df, ground_truth_col, forecast_col, group_col)`:\n",
    "Similar to the overall metrics function, but computes error metrics grouped by lv_feeder_unique_id (i.e., feeder-level performance).\n"
   ]
  },
  {
   "cell_type": "code",
   "execution_count": 0,
   "metadata": {
    "application/vnd.databricks.v1+cell": {
     "cellMetadata": {
      "byteLimit": 2048000,
      "rowLimit": 10000
     },
     "inputWidgets": {},
     "nuid": "3eccaef8-15dd-4ca7-8456-bcff774dd3bb",
     "showTitle": false,
     "tableResultSettingsMap": {},
     "title": ""
    }
   },
   "outputs": [],
   "source": [
    "def calculate_overall_metrics(df, ground_truth_col, forecast_col):\n",
    "    \"\"\"\n",
    "    Compute overall forecast metrics (MAE, MSE, RMSE, MAPE, and SMAPE)\n",
    "    on the provided DataFrame.\n",
    "    \n",
    "    Parameters:\n",
    "      df (DataFrame): The input DataFrame containing predictions and actual values.\n",
    "      ground_truth_col (str): Column name for actual values.\n",
    "      forecast_col (str): Column name for forecasted values.\n",
    "    \n",
    "    Returns:\n",
    "      A Row with the aggregated metrics.\n",
    "    \"\"\"\n",
    "    # Compute per-row errors and additional metrics\n",
    "    df_errors = df.withColumn(\"error\", F.col(forecast_col) - F.col(ground_truth_col)) \\\n",
    "        .withColumn(\"abs_error\", F.abs(F.col(\"error\"))) \\\n",
    "        .withColumn(\"squared_error\", F.pow(F.col(\"error\"), 2)) \\\n",
    "        .withColumn(\"percentage_error\",\n",
    "                    F.when(F.col(ground_truth_col) != 0,\n",
    "                           F.abs(F.col(\"error\") / F.col(ground_truth_col)))\n",
    "                     .otherwise(0)) \\\n",
    "        .withColumn(\"smape\",\n",
    "                    F.when(\n",
    "                        (F.col(ground_truth_col).isNotNull()) &\n",
    "                        (F.col(forecast_col).isNotNull()) &\n",
    "                        ((F.abs(F.col(ground_truth_col)) + F.abs(F.col(forecast_col))) != 0),\n",
    "                        2 * F.abs(F.col(\"error\")) / (F.abs(F.col(ground_truth_col)) + F.abs(F.col(forecast_col)))\n",
    "                    ).otherwise(0))\n",
    "    \n",
    "    # Aggregate the error metrics over the entire dataset\n",
    "    agg_metrics = df_errors.agg(\n",
    "        F.avg(\"abs_error\").alias(\"MAE\"),\n",
    "        F.avg(\"squared_error\").alias(\"MSE\"),\n",
    "        F.sqrt(F.avg(\"squared_error\")).alias(\"RMSE\"),\n",
    "        F.avg(\"percentage_error\").alias(\"MAPE\"),\n",
    "        F.avg(\"smape\").alias(\"SMAPE\")\n",
    "    )\n",
    "    \n",
    "    overall_metrics = agg_metrics.collect()[0]\n",
    "    \n",
    "    print(\"Overall Metrics:\")\n",
    "    print(f\"MAE: {overall_metrics['MAE']}\")\n",
    "    print(f\"MSE: {overall_metrics['MSE']}\")\n",
    "    print(f\"RMSE: {overall_metrics['RMSE']}\")\n",
    "    print(f\"MAPE: {overall_metrics['MAPE']}\")\n",
    "    print(f\"SMAPE: {overall_metrics['SMAPE']}\")\n",
    "    \n",
    "    return overall_metrics\n"
   ]
  },
  {
   "cell_type": "code",
   "execution_count": 0,
   "metadata": {
    "application/vnd.databricks.v1+cell": {
     "cellMetadata": {
      "byteLimit": 2048000,
      "rowLimit": 10000
     },
     "inputWidgets": {},
     "nuid": "71719f37-6b2c-4ac6-a379-477ba953d01c",
     "showTitle": false,
     "tableResultSettingsMap": {},
     "title": ""
    }
   },
   "outputs": [],
   "source": [
    "\n",
    "def calculate_group_metrics(df, ground_truth_col, forecast_col, group_col):\n",
    "    \"\"\"\n",
    "    Compute forecast metrics (MAE, MSE, RMSE, MAPE, and SMAPE)\n",
    "    grouped by the specified group column (e.g., lv_feeder_unique_id).\n",
    "    \n",
    "    Parameters:\n",
    "      df (DataFrame): The input DataFrame containing predictions and actual values.\n",
    "      ground_truth_col (str): Column name for actual values.\n",
    "      forecast_col (str): Column name for forecasted values.\n",
    "      group_col (str): Column name for grouping (e.g., \"lv_feeder_unique_id\").\n",
    "    \n",
    "    Returns:\n",
    "      A DataFrame with metrics computed for each group.\n",
    "    \"\"\"\n",
    "    # Compute per-row errors and additional metrics, similar as above\n",
    "    df_errors = df.withColumn(\"error\", F.col(forecast_col) - F.col(ground_truth_col)) \\\n",
    "        .withColumn(\"abs_error\", F.abs(F.col(\"error\"))) \\\n",
    "        .withColumn(\"squared_error\", F.pow(F.col(\"error\"), 2)) \\\n",
    "        .withColumn(\"percentage_error\",\n",
    "                    F.when(F.col(ground_truth_col) != 0,\n",
    "                           F.abs(F.col(\"error\") / F.col(ground_truth_col)))\n",
    "                     .otherwise(0)) \\\n",
    "        .withColumn(\"smape\",\n",
    "                    F.when(\n",
    "                        (F.col(ground_truth_col).isNotNull()) &\n",
    "                        (F.col(forecast_col).isNotNull()) &\n",
    "                        ((F.abs(F.col(ground_truth_col)) + F.abs(F.col(forecast_col))) != 0),\n",
    "                        2 * F.abs(F.col(\"error\")) / (F.abs(F.col(ground_truth_col)) + F.abs(F.col(forecast_col)))\n",
    "                    ).otherwise(0))\n",
    "    \n",
    "    # Group by the specified column and aggregate metrics per group\n",
    "    group_metrics_df = df_errors.groupBy(group_col).agg(\n",
    "        F.avg(\"abs_error\").alias(\"MAE\"),\n",
    "        F.avg(\"squared_error\").alias(\"MSE\"),\n",
    "        F.sqrt(F.avg(\"squared_error\")).alias(\"RMSE\"),\n",
    "        F.avg(\"percentage_error\").alias(\"MAPE\"),\n",
    "        F.avg(\"smape\").alias(\"SMAPE\")\n",
    "    )\n",
    "    \n",
    "    return group_metrics_df\n"
   ]
  },
  {
   "cell_type": "markdown",
   "metadata": {
    "application/vnd.databricks.v1+cell": {
     "cellMetadata": {},
     "inputWidgets": {},
     "nuid": "08d17517-c9c1-4b18-bf81-e3eb753859ba",
     "showTitle": false,
     "tableResultSettingsMap": {},
     "title": ""
    }
   },
   "source": [
    "### Visualisation functions"
   ]
  },
  {
   "cell_type": "code",
   "execution_count": 0,
   "metadata": {
    "application/vnd.databricks.v1+cell": {
     "cellMetadata": {
      "byteLimit": 2048000,
      "rowLimit": 10000
     },
     "inputWidgets": {},
     "nuid": "afabb9dd-f3be-44f3-9fcd-2ba84c55d5b8",
     "showTitle": false,
     "tableResultSettingsMap": {},
     "title": ""
    }
   },
   "outputs": [],
   "source": [
    "def mape_smape_histogram(pdf, experiment_name):\n",
    "    # Create clipped versions of the metrics (values above 1 become 1)\n",
    "    pdf[\"MAPE_clipped\"] = pdf[\"MAPE\"].clip(upper=1)\n",
    "    pdf[\"SMAPE_clipped\"] = pdf[\"SMAPE\"].clip(upper=1)\n",
    "\n",
    "    # Histogram of clipped MAPE and SMAPE values\n",
    "    plt.figure(figsize=(12, 5))\n",
    "\n",
    "    plt.subplot(1, 2, 1)\n",
    "    plt.hist(pdf[\"MAPE_clipped\"], bins=30, edgecolor=\"black\")\n",
    "    plt.title(\"Distribution of Clipped MAPE Across Feeders\"+\"\\n\"+experiment_name)\n",
    "    plt.xlabel(\"Clipped MAPE\")\n",
    "    plt.ylabel(\"Frequency\")\n",
    "\n",
    "    plt.subplot(1, 2, 2)\n",
    "    plt.hist(pdf[\"SMAPE_clipped\"], bins=30, edgecolor=\"black\", color=\"orange\")\n",
    "    plt.title(\"Distribution of Clipped SMAPE Across Feeders\"+\"\\n\"+experiment_name)\n",
    "    plt.xlabel(\"Clipped SMAPE\")\n",
    "    plt.ylabel(\"Frequency\")\n",
    "\n",
    "    plt.tight_layout()\n",
    "    plt.show()"
   ]
  },
  {
   "cell_type": "code",
   "execution_count": 0,
   "metadata": {
    "application/vnd.databricks.v1+cell": {
     "cellMetadata": {
      "byteLimit": 2048000,
      "rowLimit": 10000
     },
     "inputWidgets": {},
     "nuid": "fe3a6655-8da1-4dcd-8e13-27fbf42664e6",
     "showTitle": false,
     "tableResultSettingsMap": {},
     "title": ""
    }
   },
   "outputs": [],
   "source": [
    "def mape_smape_buckets(pdf):\n",
    "    # Define bucket thresholds (these are just example thresholds; adjust based on your domain)\n",
    "    mape_bins = [0, 0.1, 0.2, 0.4, 1.0]\n",
    "    mape_labels = [\"Excellent (<10%)\", \"Good (10-20%)\", \"Average (20-40%)\", \"Poor (>=40%)\"]\n",
    "\n",
    "    smape_bins = [0, 0.1, 0.2, 0.4, 1.0]\n",
    "    smape_labels = [\"Excellent (<10%)\", \"Good (10-20%)\", \"Average (20-40%)\", \"Poor (>=40%)\"]\n",
    "\n",
    "    # Create categorical buckets for MAPE and SMAPE\n",
    "    pdf[\"MAPE_bucket\"] = pd.cut(pdf[\"MAPE\"], bins=mape_bins, labels=mape_labels, right=False)\n",
    "    pdf[\"SMAPE_bucket\"] = pd.cut(pdf[\"SMAPE\"], bins=smape_bins, labels=smape_labels, right=False)\n",
    "\n",
    "    # Get counts for each bucket\n",
    "    mape_bucket_counts = pdf[\"MAPE_bucket\"].value_counts().sort_index()\n",
    "    smape_bucket_counts = pdf[\"SMAPE_bucket\"].value_counts().sort_index()\n",
    "\n",
    "    # Calculate proportions (as a percentage of total feeders)\n",
    "    total_feeders = len(pdf)\n",
    "    mape_proportions = (mape_bucket_counts / total_feeders) * 100\n",
    "    smape_proportions = (smape_bucket_counts / total_feeders) * 100\n",
    "\n",
    "    return mape_bucket_counts, mape_proportions, smape_bucket_counts, smape_proportions"
   ]
  },
  {
   "cell_type": "code",
   "execution_count": 0,
   "metadata": {
    "application/vnd.databricks.v1+cell": {
     "cellMetadata": {
      "byteLimit": 2048000,
      "rowLimit": 10000
     },
     "inputWidgets": {},
     "nuid": "4c714f4a-57a0-418a-9142-4096fa714738",
     "showTitle": false,
     "tableResultSettingsMap": {},
     "title": ""
    }
   },
   "outputs": [],
   "source": [
    "def visualise_buckets(mape_bucket_counts, mape_proportions, smape_bucket_counts, smape_proportions, experiment_name):\n",
    "    print(\"MAPE Buckets:\")\n",
    "    print(mape_bucket_counts)\n",
    "    print(\"\\nMAPE Proportions (in %):\")\n",
    "    print(mape_proportions)\n",
    "\n",
    "    print(\"\\nSMAPE Buckets:\")\n",
    "    print(smape_bucket_counts)\n",
    "    print(\"\\nSMAPE Proportions (in %):\")\n",
    "    print(smape_proportions)\n",
    "\n",
    "    fig, ax = plt.subplots(1, 2, figsize=(14, 6))\n",
    "\n",
    "    # Plot MAPE bucket counts on the first subplot\n",
    "    mape_bucket_counts.plot(kind=\"bar\", ax=ax[0], color=\"blue\", edgecolor=\"black\")\n",
    "    ax[0].set_title(\"Distribution of Feeders by MAPE Bucket\"+\"\\n\"+experiment_name)\n",
    "    ax[0].set_xlabel(\"MAPE Bucket\")\n",
    "    ax[0].set_ylabel(\"Number of Feeders\")\n",
    "    ax[0].set_xticklabels(mape_bucket_counts.index, rotation=45)\n",
    "\n",
    "    # Plot SMAPE bucket counts on the second subplot\n",
    "    smape_bucket_counts.plot(kind=\"bar\", ax=ax[1], color=\"orange\", edgecolor=\"black\")\n",
    "    ax[1].set_title(\"Distribution of Feeders by SMAPE Bucket\"+\"\\n\"+experiment_name)\n",
    "    ax[1].set_xlabel(\"SMAPE Bucket\")\n",
    "    ax[1].set_ylabel(\"Number of Feeders\")\n",
    "    ax[1].set_xticklabels(smape_bucket_counts.index, rotation=45)\n",
    "\n",
    "    plt.tight_layout()\n",
    "    plt.show()"
   ]
  },
  {
   "cell_type": "markdown",
   "metadata": {
    "application/vnd.databricks.v1+cell": {
     "cellMetadata": {},
     "inputWidgets": {},
     "nuid": "f06fcb0b-94ef-4d2f-abbd-88095d0bf948",
     "showTitle": false,
     "tableResultSettingsMap": {},
     "title": ""
    }
   },
   "source": [
    "\n",
    "## 30-Minute Forecasting Evaluation\n",
    "### Global Evaluation:\n",
    "The overall performance is calculated for the 30-minute model. \n"
   ]
  },
  {
   "cell_type": "code",
   "execution_count": 0,
   "metadata": {
    "application/vnd.databricks.v1+cell": {
     "cellMetadata": {
      "byteLimit": 2048000,
      "rowLimit": 10000
     },
     "inputWidgets": {},
     "nuid": "222dad8a-7ada-4db8-829a-02aaad99b3c4",
     "showTitle": false,
     "tableResultSettingsMap": {},
     "title": ""
    }
   },
   "outputs": [],
   "source": [
    "overall_results = calculate_overall_metrics(joined_df, \"normalized_consumption_kwh\", \"normalized_consumption_kwh_forecast\")\n"
   ]
  },
  {
   "cell_type": "markdown",
   "metadata": {
    "application/vnd.databricks.v1+cell": {
     "cellMetadata": {},
     "inputWidgets": {},
     "nuid": "7d71c0d6-2f75-4c21-a492-baed24edc844",
     "showTitle": false,
     "tableResultSettingsMap": {},
     "title": ""
    }
   },
   "source": [
    "Our global forecasting model exhibits a MAPE of roughly 43.8%, indicating that, on average, forecasts deviate by 43.8% from actual values. However, the SMAPE of about 31% suggests a more balanced performance when both predicted and observed values are considered, mitigating the impact of low or near-zero actuals. These metrics imply that while there is room for improvement, especially in handling low consumption periods, the model delivers a more robust performance under symmetric evaluation."
   ]
  },
  {
   "cell_type": "markdown",
   "metadata": {
    "application/vnd.databricks.v1+cell": {
     "cellMetadata": {},
     "inputWidgets": {},
     "nuid": "460bba44-3b72-4c76-bb8f-e710488dc22a",
     "showTitle": false,
     "tableResultSettingsMap": {},
     "title": ""
    }
   },
   "source": [
    "\n",
    "### Feeder-Level Evaluation:"
   ]
  },
  {
   "cell_type": "code",
   "execution_count": 0,
   "metadata": {
    "application/vnd.databricks.v1+cell": {
     "cellMetadata": {
      "byteLimit": 2048000,
      "rowLimit": 10000
     },
     "inputWidgets": {},
     "nuid": "29a8daf9-a552-4195-97bb-7ef1c495a517",
     "showTitle": false,
     "tableResultSettingsMap": {},
     "title": ""
    }
   },
   "outputs": [],
   "source": [
    "group_results_df = calculate_group_metrics(joined_df, \"normalized_consumption_kwh\", \"normalized_consumption_kwh_forecast\",\"lv_feeder_unique_id\")\n",
    "group_results_df.show(truncate=False)"
   ]
  },
  {
   "cell_type": "code",
   "execution_count": 0,
   "metadata": {
    "application/vnd.databricks.v1+cell": {
     "cellMetadata": {
      "byteLimit": 2048000,
      "rowLimit": 10000
     },
     "inputWidgets": {},
     "nuid": "c8936d18-feca-4a29-89e8-1d517558418a",
     "showTitle": false,
     "tableResultSettingsMap": {},
     "title": ""
    }
   },
   "outputs": [],
   "source": [
    "pdf = group_results_df.toPandas()\n",
    "mape_smape_histogram(pdf,\"30-min univariate forcaster\")"
   ]
  },
  {
   "cell_type": "code",
   "execution_count": 0,
   "metadata": {
    "application/vnd.databricks.v1+cell": {
     "cellMetadata": {
      "byteLimit": 2048000,
      "rowLimit": 10000
     },
     "inputWidgets": {},
     "nuid": "1830dbca-be54-4cff-af0d-699bae8220b5",
     "showTitle": false,
     "tableResultSettingsMap": {},
     "title": ""
    }
   },
   "outputs": [],
   "source": [
    "thirtymin_univariate_mape_bucket_counts, thirtymin_univariate_mape_proportions, thirtymin_univariate_smape_bucket_counts, thirtymin_univariate_smape_proportions = mape_smape_buckets(pdf)"
   ]
  },
  {
   "cell_type": "code",
   "execution_count": 0,
   "metadata": {
    "application/vnd.databricks.v1+cell": {
     "cellMetadata": {
      "byteLimit": 2048000,
      "rowLimit": 10000
     },
     "inputWidgets": {},
     "nuid": "d1efe4cd-60c2-4296-83fd-794acba2762f",
     "showTitle": false,
     "tableResultSettingsMap": {},
     "title": ""
    }
   },
   "outputs": [],
   "source": [
    "visualise_buckets(thirtymin_univariate_mape_bucket_counts, thirtymin_univariate_mape_proportions, thirtymin_univariate_smape_bucket_counts, thirtymin_univariate_smape_proportions, '30-min univariate forcaster')"
   ]
  },
  {
   "cell_type": "markdown",
   "metadata": {
    "application/vnd.databricks.v1+cell": {
     "cellMetadata": {},
     "inputWidgets": {},
     "nuid": "0e1cc4aa-8680-4c5a-aebc-611a2f45bd3d",
     "showTitle": false,
     "tableResultSettingsMap": {},
     "title": ""
    }
   },
   "source": [
    "The distribution of forecast errors across feeders reveals that, according to MAPE, an almost negligible fraction (<0.01%) achieve an excellent error level (<10%), about 8% are classified as good (10–20%), the majority (55%) fall into the average range (20–40%), and roughly 34% are in the poor category (>=40%). In contrast, when viewed through SMAPE, only about 1% of feeders are excellent, approximately 14% are good, 71% have average performance, and around 14% are poor. This indicates that most feeders exhibit moderate forecast errors, but there is a notable subset with high errors, suggesting that further model fine-tuning or segmentation might be necessary to improve forecast accuracy for those underperforming groups."
   ]
  },
  {
   "cell_type": "markdown",
   "metadata": {
    "application/vnd.databricks.v1+cell": {
     "cellMetadata": {},
     "inputWidgets": {},
     "nuid": "55c284cf-ee06-4a38-9d27-ebddf9303bcb",
     "showTitle": false,
     "tableResultSettingsMap": {},
     "title": ""
    }
   },
   "source": [
    "## Daily Forecasting Evaluation\n",
    "### Global Evaluation:"
   ]
  },
  {
   "cell_type": "code",
   "execution_count": 0,
   "metadata": {
    "application/vnd.databricks.v1+cell": {
     "cellMetadata": {
      "byteLimit": 2048000,
      "rowLimit": 10000
     },
     "inputWidgets": {},
     "nuid": "b7b6a17a-5070-43e2-969a-9dcc7961c3e9",
     "showTitle": false,
     "tableResultSettingsMap": {},
     "title": ""
    }
   },
   "outputs": [],
   "source": [
    "daily_overall_results = calculate_overall_metrics(daily_joined_df, \"daily_normalized_consumption_kwh\", \"daily_normalized_consumption_kwh_forecast\")\n"
   ]
  },
  {
   "cell_type": "markdown",
   "metadata": {
    "application/vnd.databricks.v1+cell": {
     "cellMetadata": {},
     "inputWidgets": {},
     "nuid": "c5551019-5449-44e4-b648-57e8be2bee77",
     "showTitle": false,
     "tableResultSettingsMap": {},
     "title": ""
    }
   },
   "source": [
    "Overall, the daily forecasting model yields a mean absolute error (MAE) of about 3.5 and a root mean square error (RMSE) of around 45.51. The MAPE is calculated as 1.9, indicating that, on average, the absolute forecast error is almost twice the actual value, while the symmetric MAPE (SMAPE) is 0.21 (21%). The large difference between MAPE and SMAPE suggests that the traditional MAPE might be inflated by very low actual values, whereas SMAPE provides a more balanced view of forecast accuracy. This discrepancy is important to consider when evaluating model performance and when comparing forecasts across feeders with varying consumption levels."
   ]
  },
  {
   "cell_type": "markdown",
   "metadata": {
    "application/vnd.databricks.v1+cell": {
     "cellMetadata": {},
     "inputWidgets": {},
     "nuid": "2badd045-4ae9-40bd-9264-06d3c8d569fb",
     "showTitle": false,
     "tableResultSettingsMap": {},
     "title": ""
    }
   },
   "source": [
    "### Feeder-Level Evaluation:"
   ]
  },
  {
   "cell_type": "code",
   "execution_count": 0,
   "metadata": {
    "application/vnd.databricks.v1+cell": {
     "cellMetadata": {
      "byteLimit": 2048000,
      "rowLimit": 10000
     },
     "inputWidgets": {},
     "nuid": "e2535f02-7fb9-40a9-84c3-4f306fc3bf38",
     "showTitle": false,
     "tableResultSettingsMap": {},
     "title": ""
    }
   },
   "outputs": [],
   "source": [
    "daily_group_results_df = calculate_group_metrics(daily_joined_df, \"daily_normalized_consumption_kwh\", \"daily_normalized_consumption_kwh_forecast\",\"lv_feeder_unique_id\")\n",
    "daily_group_results_df.show(truncate=False)"
   ]
  },
  {
   "cell_type": "code",
   "execution_count": 0,
   "metadata": {
    "application/vnd.databricks.v1+cell": {
     "cellMetadata": {
      "byteLimit": 2048000,
      "rowLimit": 10000
     },
     "inputWidgets": {},
     "nuid": "1d143ebe-5199-469f-b691-69063544a757",
     "showTitle": false,
     "tableResultSettingsMap": {},
     "title": ""
    }
   },
   "outputs": [],
   "source": [
    "daily_pdf = daily_group_results_df.toPandas()\n",
    "mape_smape_histogram(daily_pdf, \"Daily univariate forcaster\")"
   ]
  },
  {
   "cell_type": "code",
   "execution_count": 0,
   "metadata": {
    "application/vnd.databricks.v1+cell": {
     "cellMetadata": {
      "byteLimit": 2048000,
      "rowLimit": 10000
     },
     "inputWidgets": {},
     "nuid": "56677881-5843-4189-a556-5d4f616623b3",
     "showTitle": false,
     "tableResultSettingsMap": {},
     "title": ""
    }
   },
   "outputs": [],
   "source": [
    "daily_univariate_mape_bucket_counts, daily_univariate_mape_proportions, daily_univariate_smape_bucket_counts, daily_univariate_smape_proportions = mape_smape_buckets(daily_pdf)"
   ]
  },
  {
   "cell_type": "code",
   "execution_count": 0,
   "metadata": {
    "application/vnd.databricks.v1+cell": {
     "cellMetadata": {
      "byteLimit": 2048000,
      "rowLimit": 10000
     },
     "inputWidgets": {},
     "nuid": "8a64431f-f5a8-443e-b4dc-cda135403ee7",
     "showTitle": false,
     "tableResultSettingsMap": {},
     "title": ""
    }
   },
   "outputs": [],
   "source": [
    "visualise_buckets(daily_univariate_mape_bucket_counts, daily_univariate_mape_proportions, daily_univariate_smape_bucket_counts, daily_univariate_smape_proportions, 'Daily univariate forcaster')"
   ]
  },
  {
   "cell_type": "markdown",
   "metadata": {
    "application/vnd.databricks.v1+cell": {
     "cellMetadata": {},
     "inputWidgets": {},
     "nuid": "f578582e-5f29-4515-bcca-bfb8180d8c65",
     "showTitle": false,
     "tableResultSettingsMap": {},
     "title": ""
    }
   },
   "source": [
    "For the daily forecaster, the MAPE breakdown indicates that about 16.6% of feeders achieve excellent performance (<10% error), 11.6% are good (10–20% error), 2.7% fall in the average range (20–40% error), and 20.4% are classified as poor (>=40% error). Meanwhile, SMAPE offers a more favorable view with 17.4% excellent, 43.1% good, 35.6% average, and only 3.3% poor. In short, while MAPE suggests a significant portion of forecasts have relatively high errors, the SMAPE analysis reveals that the majority of daily forecasts are within acceptable symmetric error bounds, highlighting a generally robust performance with room for targeted improvements in the few high-error cases identified by MAPE."
   ]
  },
  {
   "cell_type": "markdown",
   "metadata": {
    "application/vnd.databricks.v1+cell": {
     "cellMetadata": {},
     "inputWidgets": {},
     "nuid": "8cb855bd-e3b2-4757-bae7-325234633ac9",
     "showTitle": false,
     "tableResultSettingsMap": {},
     "title": ""
    }
   },
   "source": [
    "## Comparison with exogenous forecaster"
   ]
  },
  {
   "cell_type": "markdown",
   "metadata": {
    "application/vnd.databricks.v1+cell": {
     "cellMetadata": {},
     "inputWidgets": {},
     "nuid": "ab4852e4-411f-4164-b104-8fbb199a0598",
     "showTitle": false,
     "tableResultSettingsMap": {},
     "title": ""
    }
   },
   "source": [
    "### Unscaled exogenous variables"
   ]
  },
  {
   "cell_type": "code",
   "execution_count": 0,
   "metadata": {
    "application/vnd.databricks.v1+cell": {
     "cellMetadata": {
      "byteLimit": 2048000,
      "rowLimit": 10000
     },
     "inputWidgets": {},
     "nuid": "79c6e7f1-fc55-4ef7-adca-6a398f471393",
     "showTitle": false,
     "tableResultSettingsMap": {},
     "title": ""
    }
   },
   "outputs": [],
   "source": [
    "df_exo_unscaled_eval = df_exo_unscaled_pred.join(daily_ground_truth_df, on=[\"lv_feeder_unique_id\", \"ts\"], how=\"inner\") \\\n",
    "                         .withColumnRenamed(\"y\", \"actual\") \\\n",
    "                         .withColumnRenamed(\"yhat\", \"forecast\")"
   ]
  },
  {
   "cell_type": "code",
   "execution_count": 0,
   "metadata": {
    "application/vnd.databricks.v1+cell": {
     "cellMetadata": {
      "byteLimit": 2048000,
      "rowLimit": 10000
     },
     "inputWidgets": {},
     "nuid": "43935aab-470d-4e5e-a248-327cddc6cde8",
     "showTitle": false,
     "tableResultSettingsMap": {},
     "title": ""
    }
   },
   "outputs": [],
   "source": [
    "df_exo_unscaled_pred.printSchema()"
   ]
  },
  {
   "cell_type": "code",
   "execution_count": 0,
   "metadata": {
    "application/vnd.databricks.v1+cell": {
     "cellMetadata": {
      "byteLimit": 2048000,
      "rowLimit": 10000
     },
     "inputWidgets": {},
     "nuid": "d2477385-d630-4f3d-9141-051e6d57b5ee",
     "showTitle": false,
     "tableResultSettingsMap": {},
     "title": ""
    }
   },
   "outputs": [],
   "source": [
    "daily_unscaled_overall_results = calculate_overall_metrics(df_exo_unscaled_eval, \"daily_normalized_consumption_kwh\", \"forecast\")"
   ]
  },
  {
   "cell_type": "code",
   "execution_count": 0,
   "metadata": {
    "application/vnd.databricks.v1+cell": {
     "cellMetadata": {
      "byteLimit": 2048000,
      "rowLimit": 10000
     },
     "inputWidgets": {},
     "nuid": "7cd248df-303a-4280-bc5f-3b7cb0a31e45",
     "showTitle": false,
     "tableResultSettingsMap": {},
     "title": ""
    }
   },
   "outputs": [],
   "source": [
    "daily_prophet_unscaled_group_results_df = calculate_group_metrics(df_exo_unscaled_eval, \"daily_normalized_consumption_kwh\", \"forecast\",\"lv_feeder_unique_id\")\n",
    "daily_group_results_df.show(truncate=False)"
   ]
  },
  {
   "cell_type": "code",
   "execution_count": 0,
   "metadata": {
    "application/vnd.databricks.v1+cell": {
     "cellMetadata": {
      "byteLimit": 2048000,
      "rowLimit": 10000
     },
     "inputWidgets": {},
     "nuid": "a4e7bc45-e041-4465-a739-7eca9a88cd08",
     "showTitle": false,
     "tableResultSettingsMap": {},
     "title": ""
    }
   },
   "outputs": [],
   "source": [
    "prophet_unscaled_daily_pdf = daily_prophet_unscaled_group_results_df.toPandas()\n",
    "mape_smape_histogram(prophet_unscaled_daily_pdf, \"Daily forcaster with unscaled exogenous variables\")"
   ]
  },
  {
   "cell_type": "code",
   "execution_count": 0,
   "metadata": {
    "application/vnd.databricks.v1+cell": {
     "cellMetadata": {
      "byteLimit": 2048000,
      "rowLimit": 10000
     },
     "inputWidgets": {},
     "nuid": "f025ece1-92ba-4763-8ab6-c1b99f3f87e8",
     "showTitle": false,
     "tableResultSettingsMap": {},
     "title": ""
    }
   },
   "outputs": [],
   "source": [
    "daily_exogenous_unscaled_mape_bucket_counts, daily_exogenous_unscaled_mape_proportions, daily_exogenous_unscaled_smape_bucket_counts, daily_exogenous_unscaled_smape_proportions = mape_smape_buckets(prophet_unscaled_daily_pdf)"
   ]
  },
  {
   "cell_type": "code",
   "execution_count": 0,
   "metadata": {
    "application/vnd.databricks.v1+cell": {
     "cellMetadata": {
      "byteLimit": 2048000,
      "rowLimit": 10000
     },
     "inputWidgets": {},
     "nuid": "56b2d7c7-02ed-4f85-a962-4f8ba6442e6a",
     "showTitle": false,
     "tableResultSettingsMap": {},
     "title": ""
    }
   },
   "outputs": [],
   "source": [
    "visualise_buckets(daily_exogenous_unscaled_mape_bucket_counts, daily_exogenous_unscaled_mape_proportions, daily_exogenous_unscaled_smape_bucket_counts, daily_exogenous_unscaled_smape_proportions, 'Daily forcaster with unscaled exogenous variables')"
   ]
  },
  {
   "cell_type": "markdown",
   "metadata": {
    "application/vnd.databricks.v1+cell": {
     "cellMetadata": {},
     "inputWidgets": {},
     "nuid": "21a45908-0a7c-4303-81b2-519f30ecb4ea",
     "showTitle": false,
     "tableResultSettingsMap": {},
     "title": ""
    }
   },
   "source": [
    "### Scaled exogenous variables"
   ]
  },
  {
   "cell_type": "code",
   "execution_count": 0,
   "metadata": {
    "application/vnd.databricks.v1+cell": {
     "cellMetadata": {
      "byteLimit": 2048000,
      "rowLimit": 10000
     },
     "inputWidgets": {},
     "nuid": "4edac2e3-292b-4647-afd1-9bfffe9cb5a6",
     "showTitle": false,
     "tableResultSettingsMap": {},
     "title": ""
    }
   },
   "outputs": [],
   "source": [
    "# Read Exogenous Forecaster Predictions (Scaled Numerical Inputs)\n",
    "df_exo_eval = df_exo_pred.join(daily_ground_truth_df, on=[\"lv_feeder_unique_id\", \"ts\"], how=\"inner\") \\\n",
    "                         .withColumnRenamed(\"y\", \"actual\") \\\n",
    "                         .withColumnRenamed(\"yhat\", \"forecast\")"
   ]
  },
  {
   "cell_type": "code",
   "execution_count": 0,
   "metadata": {
    "application/vnd.databricks.v1+cell": {
     "cellMetadata": {
      "byteLimit": 2048000,
      "rowLimit": 10000
     },
     "inputWidgets": {},
     "nuid": "582baa34-6fbb-4a65-bec0-1336f4f926b1",
     "showTitle": false,
     "tableResultSettingsMap": {},
     "title": ""
    }
   },
   "outputs": [],
   "source": [
    "df_exo_eval.printSchema()"
   ]
  },
  {
   "cell_type": "code",
   "execution_count": 0,
   "metadata": {
    "application/vnd.databricks.v1+cell": {
     "cellMetadata": {
      "byteLimit": 2048000,
      "rowLimit": 10000
     },
     "inputWidgets": {},
     "nuid": "c7bd2918-f7c3-4e28-a038-45ecf27cd90c",
     "showTitle": false,
     "tableResultSettingsMap": {},
     "title": ""
    }
   },
   "outputs": [],
   "source": [
    "daily_overall_results = calculate_overall_metrics(df_exo_eval, \"daily_normalized_consumption_kwh\", \"forecast\")"
   ]
  },
  {
   "cell_type": "code",
   "execution_count": 0,
   "metadata": {
    "application/vnd.databricks.v1+cell": {
     "cellMetadata": {
      "byteLimit": 2048000,
      "rowLimit": 10000
     },
     "inputWidgets": {},
     "nuid": "4bc67952-79fd-428e-b269-5744254ccbea",
     "showTitle": false,
     "tableResultSettingsMap": {},
     "title": ""
    }
   },
   "outputs": [],
   "source": [
    "daily_prophet_group_results_df = calculate_group_metrics(df_exo_eval, \"daily_normalized_consumption_kwh\", \"forecast\",\"lv_feeder_unique_id\")\n",
    "daily_group_results_df.show(truncate=False)"
   ]
  },
  {
   "cell_type": "code",
   "execution_count": 0,
   "metadata": {
    "application/vnd.databricks.v1+cell": {
     "cellMetadata": {
      "byteLimit": 2048000,
      "rowLimit": 10000
     },
     "inputWidgets": {},
     "nuid": "e8cefd6a-b361-46b3-9aeb-ff96b41ff408",
     "showTitle": false,
     "tableResultSettingsMap": {},
     "title": ""
    }
   },
   "outputs": [],
   "source": [
    "prophet_daily_pdf = daily_prophet_group_results_df.toPandas()\n",
    "mape_smape_histogram(prophet_daily_pdf, \"Daily forcaster with scaled exogenous variables\")"
   ]
  },
  {
   "cell_type": "code",
   "execution_count": 0,
   "metadata": {
    "application/vnd.databricks.v1+cell": {
     "cellMetadata": {
      "byteLimit": 2048000,
      "rowLimit": 10000
     },
     "inputWidgets": {},
     "nuid": "786a7ef8-1610-426e-a220-0b4c12497fd7",
     "showTitle": false,
     "tableResultSettingsMap": {},
     "title": ""
    }
   },
   "outputs": [],
   "source": [
    "daily_exogenous_scaled_mape_bucket_counts, daily_exogenous_scaled_mape_proportions, daily_exogenous_scaled_smape_bucket_counts, daily_exogenous_scaled_smape_proportions = mape_smape_buckets(prophet_daily_pdf)"
   ]
  },
  {
   "cell_type": "code",
   "execution_count": 0,
   "metadata": {
    "application/vnd.databricks.v1+cell": {
     "cellMetadata": {
      "byteLimit": 2048000,
      "rowLimit": 10000
     },
     "inputWidgets": {},
     "nuid": "6ab43455-2c22-4977-ac6e-4c0ed728269a",
     "showTitle": false,
     "tableResultSettingsMap": {},
     "title": ""
    }
   },
   "outputs": [],
   "source": [
    "visualise_buckets(daily_exogenous_scaled_mape_bucket_counts, daily_exogenous_scaled_mape_proportions, daily_exogenous_scaled_smape_bucket_counts, daily_exogenous_scaled_smape_proportions, 'Daily forcaster with scaled exogenous variables')"
   ]
  },
  {
   "cell_type": "markdown",
   "metadata": {
    "application/vnd.databricks.v1+cell": {
     "cellMetadata": {},
     "inputWidgets": {},
     "nuid": "7bc9a4d0-eb1a-4175-ab7e-89817db1bd09",
     "showTitle": false,
     "tableResultSettingsMap": {},
     "title": ""
    }
   },
   "source": [
    "### Comparing all models"
   ]
  },
  {
   "cell_type": "code",
   "execution_count": 0,
   "metadata": {
    "application/vnd.databricks.v1+cell": {
     "cellMetadata": {
      "byteLimit": 2048000,
      "rowLimit": 10000
     },
     "inputWidgets": {},
     "nuid": "a21e5004-76b0-44b2-a84f-1ddbcbd6537c",
     "showTitle": false,
     "tableResultSettingsMap": {},
     "title": ""
    }
   },
   "outputs": [],
   "source": [
    "import matplotlib.pyplot as plt\n",
    "import numpy as np\n",
    "\n",
    "model_names = [\n",
    "    \"daily_exogenous_unscaled\",\n",
    "    \"daily_exogenous_scaled\",\n",
    "    \"daily_univariate\",\n",
    "    \"thirtymin_univariate\"\n",
    "]\n",
    "\n",
    "buckets = [\"Excellent (<10%)\", \"Good (10-20%)\", \"Average (20-40%)\", \"Poor (>=40%)\"]\n",
    "\n",
    "# Assume raw_mape and raw_smape dicts exist as before\n",
    "# Re‑normalize each to sum to 100%\n",
    "mape_dict = {\n",
    "    model: (series.reindex(buckets, fill_value=0) / series.sum() * 100).values\n",
    "    for model, series in {\n",
    "        \"daily_exogenous_unscaled\": daily_exogenous_unscaled_mape_proportions,\n",
    "        \"daily_exogenous_scaled\":   daily_exogenous_scaled_mape_proportions,\n",
    "        \"daily_univariate\":         daily_univariate_mape_proportions,\n",
    "        \"thirtymin_univariate\":     thirtymin_univariate_mape_proportions\n",
    "    }.items()\n",
    "}\n",
    "\n",
    "smape_dict = {\n",
    "    model: (series.reindex(buckets, fill_value=0) / series.sum() * 100).values\n",
    "    for model, series in {\n",
    "        \"daily_exogenous_unscaled\": daily_exogenous_unscaled_smape_proportions,\n",
    "        \"daily_exogenous_scaled\":   daily_exogenous_scaled_smape_proportions,\n",
    "        \"daily_univariate\":         daily_univariate_smape_proportions,\n",
    "        \"thirtymin_univariate\":     thirtymin_univariate_smape_proportions\n",
    "    }.items()\n",
    "}\n",
    "\n",
    "# --- Print MAPE proportions ---\n",
    "print(\"MAPE proportions (%):\")\n",
    "for model, vals in mape_dict.items():\n",
    "    print(f\"  {model}:\")\n",
    "    for bucket, v in zip(buckets, vals):\n",
    "        print(f\"    {bucket}: {v:.2f}%\")\n",
    "\n",
    "# --- Print SMAPE proportions ---\n",
    "print(\"\\nSMAPE proportions (%):\")\n",
    "for model, vals in smape_dict.items():\n",
    "    print(f\"  {model}:\")\n",
    "    for bucket, v in zip(buckets, vals):\n",
    "        print(f\"    {bucket}: {v:.2f}%\")\n",
    "\n",
    "# Now plot and annotate\n",
    "x = np.arange(len(buckets))\n",
    "n_models = len(model_names)\n",
    "total_width = 0.8\n",
    "bar_width = total_width / n_models\n",
    "offsets = np.linspace(-total_width/2 + bar_width/2,\n",
    "                      total_width/2 - bar_width/2,\n",
    "                      n_models)\n",
    "colors = plt.cm.tab10.colors[:n_models]\n",
    "\n",
    "fig, (ax1, ax2) = plt.subplots(2, 1, figsize=(10,12), constrained_layout=True)\n",
    "\n",
    "# MAPE\n",
    "for i, model in enumerate(model_names):\n",
    "    bars = ax1.bar(\n",
    "        x + offsets[i],\n",
    "        mape_dict[model],\n",
    "        width=bar_width,\n",
    "        label=model,\n",
    "        color=colors[i],\n",
    "        edgecolor=\"black\"\n",
    "    )\n",
    "    ax1.bar_label(bars, fmt=\"%.1f%%\", padding=3)\n",
    "ax1.set_xticks(x)\n",
    "ax1.set_xticklabels(buckets, rotation=45, ha='right')\n",
    "ax1.set_ylabel(\"Proportion (%)\")\n",
    "ax1.set_title(\"MAPE Bucket Comparison (Normalized to 100%)\")\n",
    "ax1.legend(loc=\"upper left\")\n",
    "ax1.grid(axis=\"y\", linestyle=\"--\", alpha=0.5)\n",
    "ax1.margins(x=0.05)\n",
    "\n",
    "# SMAPE\n",
    "for i, model in enumerate(model_names):\n",
    "    bars = ax2.bar(\n",
    "        x + offsets[i],\n",
    "        smape_dict[model],\n",
    "        width=bar_width,\n",
    "        label=model,\n",
    "        color=colors[i],\n",
    "        edgecolor=\"black\"\n",
    "    )\n",
    "    ax2.bar_label(bars, fmt=\"%.1f%%\", padding=3)\n",
    "ax2.set_xticks(x)\n",
    "ax2.set_xticklabels(buckets, rotation=45, ha='right')\n",
    "ax2.set_ylabel(\"Proportion (%)\")\n",
    "ax2.set_title(\"SMAPE Bucket Comparison (Normalized to 100%)\")\n",
    "ax2.legend(loc=\"upper left\")\n",
    "ax2.grid(axis=\"y\", linestyle=\"--\", alpha=0.5)\n",
    "ax2.margins(x=0.05)\n",
    "\n",
    "plt.show()\n"
   ]
  },
  {
   "cell_type": "markdown",
   "metadata": {
    "application/vnd.databricks.v1+cell": {
     "cellMetadata": {},
     "inputWidgets": {},
     "nuid": "2250d66b-e4a9-4874-95de-acc67a420997",
     "showTitle": false,
     "tableResultSettingsMap": {},
     "title": ""
    }
   },
   "source": [
    "The key takeaway is that the simple daily univariate baseline far outperforms the Prophet models with exogenous variables. Adding temperature, solar radiation, and device‑count regressors did not improve overall forecast accuracy compared to the straightforward univariate approach, and in fact, the scaled version made SMAPE substantially worse. This suggests that either: these covariates aren’t the right drivers at the daily level, or the model needs further tuning or feature engineering (e.g. different lags, interactions, or variable transformations) before an exogenous Prophet model can surpass the univariate baseline."
   ]
  },
  {
   "cell_type": "code",
   "execution_count": 0,
   "metadata": {
    "application/vnd.databricks.v1+cell": {
     "cellMetadata": {},
     "inputWidgets": {},
     "nuid": "008be421-65c2-41bf-9b8c-6472b25dc58e",
     "showTitle": false,
     "tableResultSettingsMap": {},
     "title": ""
    }
   },
   "outputs": [],
   "source": []
  }
 ],
 "metadata": {
  "application/vnd.databricks.v1+notebook": {
   "computePreferences": null,
   "dashboards": [],
   "environmentMetadata": {
    "base_environment": "",
    "environment_version": "2"
   },
   "inputWidgetPreferences": null,
   "language": "python",
   "notebookMetadata": {
    "pythonIndentUnit": 2
   },
   "notebookName": "05_forecast_evaluation",
   "widgets": {}
  },
  "language_info": {
   "name": "python"
  }
 },
 "nbformat": 4,
 "nbformat_minor": 0
}
