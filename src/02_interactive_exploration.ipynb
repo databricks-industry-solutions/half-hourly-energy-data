{
 "cells": [
  {
   "cell_type": "markdown",
   "metadata": {
    "application/vnd.databricks.v1+cell": {
     "cellMetadata": {
      "byteLimit": 2048000,
      "rowLimit": 10000
     },
     "inputWidgets": {},
     "nuid": "25a808c9-249d-469f-9db8-66a035923dca",
     "showTitle": false,
     "tableResultSettingsMap": {},
     "title": ""
    }
   },
   "source": [
    "## 02 - Interactive exploration of data\n",
    "\n",
    "This notebook covers the interactive exploration that guides our data cleansing and pre-processing later. We look at:\n",
    "\n",
    "- Basic statistics (counts, missing, min, max)\n",
    "- Sense checking our assumptions against what we know\n",
    "- establishing bounds for outliers\n",
    "- Considering the integrity of our timestamp data\n",
    "\n",
    "We're looking at the top flow of this diagram:\n",
    "\n",
    "<img src=\"../docs/imgs/energy-sa-clean-up-flow.png \" width=\"300\">\n",
    "\n",
    "The data exploration and pre-processing steps are covered in detail in the [original weave exploration notebook](https://github.com/centre-for-ai-and-climate/weave/blob/main/docs/smart-meter-examples-v1.0.ipynb).\n",
    "\n"
   ]
  },
  {
   "cell_type": "code",
   "execution_count": 0,
   "metadata": {
    "application/vnd.databricks.v1+cell": {
     "cellMetadata": {
      "byteLimit": 2048000,
      "rowLimit": 10000
     },
     "collapsed": true,
     "inputWidgets": {},
     "nuid": "33821682-6841-4404-a23a-b5c3c7302676",
     "showTitle": false,
     "tableResultSettingsMap": {},
     "title": ""
    }
   },
   "outputs": [],
   "source": [
    "%run ./includes/common_functions_and_imports"
   ]
  },
  {
   "cell_type": "code",
   "execution_count": 0,
   "metadata": {
    "application/vnd.databricks.v1+cell": {
     "cellMetadata": {
      "byteLimit": 2048000,
      "rowLimit": 10000
     },
     "inputWidgets": {},
     "nuid": "28b02bfc-bcc5-4b05-b09c-4145ec2bfff9",
     "showTitle": false,
     "tableResultSettingsMap": {},
     "title": ""
    }
   },
   "outputs": [],
   "source": [
    "import pandas as pd\n",
    "import geopandas as gpd\n",
    "\n",
    "import pyspark.sql.functions as F\n",
    "from pyspark.sql.window import Window\n"
   ]
  },
  {
   "cell_type": "code",
   "execution_count": 0,
   "metadata": {
    "application/vnd.databricks.v1+cell": {
     "cellMetadata": {
      "byteLimit": 2048000,
      "rowLimit": 10000
     },
     "inputWidgets": {},
     "nuid": "ef9f8ad1-e88a-4e22-8220-29eabeb03bc3",
     "showTitle": false,
     "tableResultSettingsMap": {},
     "title": ""
    }
   },
   "outputs": [],
   "source": [
    "source_table_name = (\n",
    "    f\"{CONFIG.target_catalog}.{CONFIG.target_schema}.smart_meter_data_raw\"\n",
    ")\n",
    "if not spark.catalog.tableExists(source_table_name):\n",
    "  dbutils.notebook.exit('Source table does not exist')\n",
    "\n",
    "raw_df = spark.table(source_table_name)"
   ]
  },
  {
   "cell_type": "markdown",
   "metadata": {
    "application/vnd.databricks.v1+cell": {
     "cellMetadata": {
      "byteLimit": 2048000,
      "rowLimit": 10000
     },
     "inputWidgets": {},
     "nuid": "dcaa5708-c2e8-4b95-98b6-df6c67f51dda",
     "showTitle": false,
     "tableResultSettingsMap": {},
     "title": ""
    }
   },
   "source": [
    "## Section 1 : Initial exploration and checking our assumptions\n",
    "\n",
    "Timeseries analysis is _hard_. Datasets are large, almost always complex, and introducing a temporal component brings with it a whole host of new things to consider.\n",
    "\n",
    "One saving grace is that we are often dealing with real, physical systems. Since somewhere in the chain we're dealing with a physical thing, we can check our assumptions against physics before we start (Is a value of 10x the output of the sun realistic for a domestic lightbulb?), or use this to inform our modelling approach.\n",
    "\n",
    "As an example, let's look at what we know, from the [about section of the website](https://weave.energy/smart-meter-data), with some key parts highlighted:\n",
    "> **UK domestic** smart meter consumption data at **half-hourly **,** aggregated at LV feeder level**. This dataset represents **120,000 LV feeders, 2,000,000 smart meters**, and is over a billion rows of data.\n",
    "\n",
    "**Summarising**:\n",
    "- 🏡 We're dealing with UK domestic consumption \n",
    "- ⏱️ Each row should represent a half hour time period\n",
    "- ∑ Each row is an aggregate at an LV feeder level\n",
    "- 🏘️ The average number of smart meters fed by a LV feeder (naively...) is 200/12 ~= 17\n",
    "\n",
    "With a bit more reading from the provided docs, we also know:\n",
    "- We have some extreme outlier values for consumption.\n",
    "- we have some sparse time series where data is missing for certain periods due to upstream errors.\n",
    "- The units are in Watt Hours.\n",
    "\n",
    "Units are important, because they let us get a feel for sense of scale and if something is correct.\n",
    "\n",
    "An example:\n",
    "- I have 17 houses fed by my LV feeder.\n",
    "- The average UK household consumption is ~2700 Kilowatt hours per year, or 7.4 kWh (7400 Wh) per day.\n",
    "- This means i'd expect an average of 17 * 7400 ~= 126,000 Wh for a typical LV feeder on a given day.\n",
    "- Or naively, divide by 48 and get 2625 Wh per half hour if it was evenly split (not a great assumption).\n",
    "\n",
    "So let's look at some statistics of our data:"
   ]
  },
  {
   "cell_type": "markdown",
   "metadata": {
    "application/vnd.databricks.v1+cell": {
     "cellMetadata": {
      "byteLimit": 2048000,
      "rowLimit": 10000
     },
     "inputWidgets": {},
     "nuid": "1ab4f8b1-5dff-48c4-803d-2fc9cddfe48f",
     "showTitle": false,
     "tableResultSettingsMap": {},
     "title": ""
    }
   },
   "source": [
    "### Examining our numerical features\n",
    "We'll start with `aggregated_device_count_active` and `total_consumption_active_import`."
   ]
  },
  {
   "cell_type": "code",
   "execution_count": 0,
   "metadata": {
    "application/vnd.databricks.v1+cell": {
     "cellMetadata": {
      "byteLimit": 2048000,
      "rowLimit": 10000
     },
     "inputWidgets": {},
     "nuid": "afc6e50a-98c6-476e-ab67-3e5b30fc1c66",
     "showTitle": true,
     "tableResultSettingsMap": {},
     "title": "Row counts and missing data"
    }
   },
   "outputs": [],
   "source": [
    "input_count = raw_df.count()\n",
    "missing_count = raw_df.filter('isnull(total_consumption_active_import)').count()\n",
    "print(\"Total count before processing   = {:,.2f}\".format(input_count))\n",
    "print(\"Number of missing datapoints is = {:,.2f} ({:,.2f}%)\".format(missing_count, missing_count/input_count*100))"
   ]
  },
  {
   "cell_type": "markdown",
   "metadata": {
    "application/vnd.databricks.v1+cell": {
     "cellMetadata": {
      "byteLimit": 2048000,
      "rowLimit": 10000
     },
     "inputWidgets": {},
     "nuid": "30abf985-3a1c-4392-8f91-0fa1dbc05a61",
     "showTitle": false,
     "tableResultSettingsMap": {},
     "title": ""
    }
   },
   "source": [
    "I use sparks dataframe `summary()` function below to calculate the statistics. The cell can take some time to run, so if you want to skip it I include the outputs with the analysis after."
   ]
  },
  {
   "cell_type": "code",
   "execution_count": 0,
   "metadata": {
    "application/vnd.databricks.v1+cell": {
     "cellMetadata": {
      "byteLimit": 2048000,
      "rowLimit": 10000
     },
     "inputWidgets": {},
     "nuid": "8a6e5270-fe7d-4f8c-9df4-e772887fe494",
     "showTitle": true,
     "tableResultSettingsMap": {},
     "title": "Calculate statistics"
    }
   },
   "outputs": [
    {
     "output_type": "display_data",
     "data": {
      "text/plain": [
       "Databricks visualization. Run in Databricks to view."
      ]
     },
     "metadata": {
      "application/vnd.databricks.v1.subcommand+json": {
       "baseErrorDetails": null,
       "bindings": {},
       "collapsed": false,
       "command": "display(raw_df.select('aggregated_device_count_active', 'total_consumption_active_import').summary())",
       "commandTitle": "Visualization 1",
       "commandType": "auto",
       "commandVersion": 0,
       "commentThread": [],
       "commentsVisible": false,
       "contentSha256Hex": null,
       "customPlotOptions": {
        "redashChart": [
         {
          "key": "type",
          "value": "TABLE"
         },
         {
          "key": "options",
          "value": {
           "columns": [
            {
             "alignContent": "left",
             "allowHTML": false,
             "allowSearch": false,
             "booleanValues": [
              "false",
              "true"
             ],
             "description": "Statistic calculated",
             "displayAs": "string",
             "highlightLinks": false,
             "imageHeight": "",
             "imageTitleTemplate": "{{ @ }}",
             "imageUrlTemplate": "{{ @ }}",
             "imageWidth": "",
             "linkOpenInNewTab": true,
             "linkTextTemplate": "{{ @ }}",
             "linkTitleTemplate": "{{ @ }}",
             "linkUrlTemplate": "{{ @ }}",
             "name": "summary",
             "order": 100000,
             "preserveWhitespace": false,
             "title": "Statistic",
             "type": "string",
             "useMonospaceFont": false,
             "visible": true
            },
            {
             "alignContent": "left",
             "allowHTML": false,
             "allowSearch": false,
             "booleanValues": [
              "false",
              "true"
             ],
             "displayAs": "string",
             "highlightLinks": false,
             "imageHeight": "",
             "imageTitleTemplate": "{{ @ }}",
             "imageUrlTemplate": "{{ @ }}",
             "imageWidth": "",
             "linkOpenInNewTab": true,
             "linkTextTemplate": "{{ @ }}",
             "linkTitleTemplate": "{{ @ }}",
             "linkUrlTemplate": "{{ @ }}",
             "name": "dataset_id",
             "order": 100001,
             "preserveWhitespace": false,
             "title": "dataset_id",
             "type": "string",
             "useMonospaceFont": false,
             "visible": false
            },
            {
             "alignContent": "left",
             "allowHTML": false,
             "allowSearch": false,
             "booleanValues": [
              "false",
              "true"
             ],
             "displayAs": "string",
             "highlightLinks": false,
             "imageHeight": "",
             "imageTitleTemplate": "{{ @ }}",
             "imageUrlTemplate": "{{ @ }}",
             "imageWidth": "",
             "linkOpenInNewTab": true,
             "linkTextTemplate": "{{ @ }}",
             "linkTitleTemplate": "{{ @ }}",
             "linkUrlTemplate": "{{ @ }}",
             "name": "dno_alias",
             "order": 100002,
             "preserveWhitespace": false,
             "title": "dno_alias",
             "type": "string",
             "useMonospaceFont": false,
             "visible": false
            },
            {
             "alignContent": "left",
             "allowHTML": false,
             "allowSearch": false,
             "booleanValues": [
              "false",
              "true"
             ],
             "displayAs": "string",
             "highlightLinks": false,
             "imageHeight": "",
             "imageTitleTemplate": "{{ @ }}",
             "imageUrlTemplate": "{{ @ }}",
             "imageWidth": "",
             "linkOpenInNewTab": true,
             "linkTextTemplate": "{{ @ }}",
             "linkTitleTemplate": "{{ @ }}",
             "linkUrlTemplate": "{{ @ }}",
             "name": "aggregated_device_count_active",
             "order": 100003,
             "preserveWhitespace": false,
             "title": "aggregated_device_count_active",
             "type": "string",
             "useMonospaceFont": false,
             "visible": true
            },
            {
             "alignContent": "left",
             "allowHTML": false,
             "allowSearch": false,
             "booleanValues": [
              "false",
              "true"
             ],
             "displayAs": "string",
             "highlightLinks": false,
             "imageHeight": "",
             "imageTitleTemplate": "{{ @ }}",
             "imageUrlTemplate": "{{ @ }}",
             "imageWidth": "",
             "linkOpenInNewTab": true,
             "linkTextTemplate": "{{ @ }}",
             "linkTitleTemplate": "{{ @ }}",
             "linkUrlTemplate": "{{ @ }}",
             "name": "total_consumption_active_import",
             "order": 100004,
             "preserveWhitespace": false,
             "title": "total_consumption_active_import",
             "type": "string",
             "useMonospaceFont": false,
             "visible": true
            },
            {
             "alignContent": "left",
             "allowHTML": false,
             "allowSearch": false,
             "booleanValues": [
              "false",
              "true"
             ],
             "displayAs": "string",
             "highlightLinks": false,
             "imageHeight": "",
             "imageTitleTemplate": "{{ @ }}",
             "imageUrlTemplate": "{{ @ }}",
             "imageWidth": "",
             "linkOpenInNewTab": true,
             "linkTextTemplate": "{{ @ }}",
             "linkTitleTemplate": "{{ @ }}",
             "linkUrlTemplate": "{{ @ }}",
             "name": "secondary_substation_unique_id",
             "order": 100005,
             "preserveWhitespace": false,
             "title": "secondary_substation_unique_id",
             "type": "string",
             "useMonospaceFont": false,
             "visible": false
            },
            {
             "alignContent": "left",
             "allowHTML": false,
             "allowSearch": false,
             "booleanValues": [
              "false",
              "true"
             ],
             "displayAs": "string",
             "highlightLinks": false,
             "imageHeight": "",
             "imageTitleTemplate": "{{ @ }}",
             "imageUrlTemplate": "{{ @ }}",
             "imageWidth": "",
             "linkOpenInNewTab": true,
             "linkTextTemplate": "{{ @ }}",
             "linkTitleTemplate": "{{ @ }}",
             "linkUrlTemplate": "{{ @ }}",
             "name": "lv_feeder_unique_id",
             "order": 100006,
             "preserveWhitespace": false,
             "title": "lv_feeder_unique_id",
             "type": "string",
             "useMonospaceFont": false,
             "visible": false
            }
           ],
           "condensed": true,
           "itemsPerPage": 25,
           "paginationSize": "default",
           "version": 2,
           "withRowNumber": false
          }
         }
        ]
       },
       "datasetPreviewNameToCmdIdMap": {},
       "diffDeletes": [],
       "diffInserts": [],
       "displayType": "redashChart",
       "error": null,
       "errorDetails": null,
       "errorSummary": null,
       "errorTraceType": null,
       "finishTime": 0,
       "globalVars": {},
       "guid": "",
       "height": "auto",
       "hideCommandCode": false,
       "hideCommandResult": false,
       "iPythonMetadata": null,
       "inputWidgets": {},
       "isLockedInExamMode": false,
       "latestUser": "a user",
       "latestUserId": null,
       "listResultMetadata": null,
       "metadata": {
        "byteLimit": 2048000,
        "rowLimit": 10000
       },
       "nuid": "2100a323-88f5-41a8-a6ec-9f1da9e36177",
       "origId": 0,
       "parentHierarchy": [],
       "pivotAggregation": null,
       "pivotColumns": null,
       "position": 3.109375,
       "resultDbfsErrorMessage": null,
       "resultDbfsStatus": "INLINED_IN_TREE",
       "results": null,
       "showCommandTitle": false,
       "startTime": 0,
       "state": "input",
       "streamStates": {},
       "subcommandOptions": {},
       "submitTime": 0,
       "subtype": "tableResultSubCmd.visualization",
       "tableResultIndex": 0,
       "tableResultSettingsMap": {},
       "useConsistentColors": false,
       "version": "CommandV1",
       "width": "auto",
       "workflows": null,
       "xColumns": null,
       "yColumns": null
      }
     },
     "output_type": "display_data"
    }
   ],
   "source": [
    "display(raw_df.select('aggregated_device_count_active', 'total_consumption_active_import').summary())"
   ]
  },
  {
   "cell_type": "markdown",
   "metadata": {
    "application/vnd.databricks.v1+cell": {
     "cellMetadata": {
      "byteLimit": 2048000,
      "rowLimit": 10000
     },
     "inputWidgets": {},
     "nuid": "d20fd9eb-bb07-40c3-8f23-3f2a9dd795b4",
     "showTitle": false,
     "tableResultSettingsMap": {},
     "title": ""
    }
   },
   "source": [
    "### Thinking about our statistics\n",
    "\n",
    "the output looks like this:\n",
    "\n",
    "|Statistic|aggregated_device_count_active|total_consumption_active_import\n",
    "|-|-|-|\n",
    "|count|2143519514|2143519514|\n",
    "|mean|24.573|776109.242|\n",
    "|stddev|18.916|1.031x10^8|\n",
    "|min|5|-268434518|\n",
    "|25%|11|1903|\n",
    "|50%|19|3737|\n",
    "|75%|32|6811|\n",
    "|max|1299|236223218982|\n",
    "\n",
    "There are a few things that stand out:\n",
    "1. Outliers _are_ crazy 🤯 (For scale, the nominal output of Hinkley point C nuclear power plant is rated at 3200 MW, or 3.2e9 W). Our peak domestic consumption through a single LV feeder is only pulling a measly ~74 times the hourly output of a reactor we haven't finished building yet, in a single half hour window. Why arn't we building more reactors to feed this very hungry household?\n",
    "1. Our initial yard-stick values are pretty good - Median consumption for an LV feeder is 3737 against 19 households fed vs our guestimate of 2625 against 17. This is a nice starting point.\n",
    "1. 🤔 I want to investigate the device count max value. Some quick internet searches reveal that typically you'd expect 20-80 properties fed from a single LV feed...\n"
   ]
  },
  {
   "cell_type": "markdown",
   "metadata": {
    "application/vnd.databricks.v1+cell": {
     "cellMetadata": {
      "byteLimit": 2048000,
      "rowLimit": 10000
     },
     "inputWidgets": {},
     "nuid": "d377c945-d063-4ce6-9680-7ecac4ba2a02",
     "showTitle": false,
     "tableResultSettingsMap": {},
     "title": ""
    }
   },
   "source": [
    "## Section 2 : Diving deeper into LV feeders\n",
    "\n",
    "So less than a minute on the internet tells me to expect between 20 and 80 households to an LV feeder.\n",
    "\n",
    "Less than 5 minutes tells me that modern designs can be rated significantly higher...\n",
    "\n",
    "What does my data tell me?\n",
    "\n",
    "Why do we care? We need to normalise against the number of devices served per LV feeder later.\n",
    "\n",
    "We're going to use `width_bucket()` [docs link](https://docs.databricks.com/aws/en/sql/language-manual/functions/width_bucket) to quickly get a histogram. It has two useful return values we want to be aware of:\n",
    "1. Null valued bucket for null values\n",
    "1. maxBucket+1 for collecting everything outside of our specified max range.\n",
    "\n",
    "I run it with the following settings:\n",
    "- minValue 1, since we know our minimum devices served is 5.\n",
    "- maxValue 1300, which is just beyond our observed max (1299)\n",
    "- 13 buckets to get an approximate width of 100.\n"
   ]
  },
  {
   "cell_type": "code",
   "execution_count": 0,
   "metadata": {
    "application/vnd.databricks.v1+cell": {
     "cellMetadata": {
      "byteLimit": 2048000,
      "rowLimit": 10000
     },
     "inputWidgets": {},
     "nuid": "e951f0ca-ea5e-4883-b906-9e971660a66b",
     "showTitle": true,
     "tableResultSettingsMap": {},
     "title": "Analyse LV feeder device counts"
    }
   },
   "outputs": [],
   "source": [
    "display(\n",
    "    raw_df.selectExpr(\n",
    "        \"aggregated_device_count_active\",\n",
    "        \"width_bucket(aggregated_device_count_active, 1, 1300, 13) as bucket\",\n",
    "    )\n",
    "    .groupby(\"bucket\")\n",
    "    .agg(\n",
    "        F.count(\"aggregated_device_count_active\").alias(\"num_feeders_in_bucket\"),\n",
    "        F.max(\"aggregated_device_count_active\").alias(\n",
    "            \"highest_number_of_devices_served_in_bucket\"\n",
    "        ),\n",
    "    )\n",
    "    .orderBy(\"bucket\")\n",
    ")"
   ]
  },
  {
   "cell_type": "markdown",
   "metadata": {
    "application/vnd.databricks.v1+cell": {
     "cellMetadata": {
      "byteLimit": 2048000,
      "rowLimit": 10000
     },
     "inputWidgets": {},
     "nuid": "b8074713-6cfd-4199-9176-6eab92602a88",
     "showTitle": false,
     "tableResultSettingsMap": {},
     "title": ""
    }
   },
   "source": [
    "Cool, it looks like the value of 1299 is a unique outlier, and actually we have a good number of LV feeders that feed a significant number of properties. (You can re-run the above experiment yourself to explore the 600-700 devices range 👀)\n",
    "\n",
    "In the real world this could be a significant factor that influences our model - different LV feeder specs or clusters may supply different property types (for example, properties with EVs requiring a higher capacity), or inversely it may give you a way to detect outliers with more confidence based on the capacity of a feeder."
   ]
  },
  {
   "cell_type": "markdown",
   "metadata": {
    "application/vnd.databricks.v1+cell": {
     "cellMetadata": {
      "byteLimit": 2048000,
      "rowLimit": 10000
     },
     "inputWidgets": {},
     "nuid": "543afcd6-923c-489d-af53-25819fbca3d0",
     "showTitle": false,
     "tableResultSettingsMap": {},
     "title": ""
    }
   },
   "source": [
    "### Okay so when should we drop outliers in consumption?\n",
    "\n",
    "According to the [FAQ page](https://docs.google.com/document/d/16tOUcaxGzSzuTw2JyR2O5yp_q7VM2J4jTV3lAkV1skQ/edit?tab=t.0), there is a known issue with the data provided by the DNOs where very large demand values are recorded.\n",
    "\n",
    "> ### Extreme consumption values\n",
    "> Some of the energy consumption values in the data are insane, like, multiple GW in a half-hour insane. In our visualisations and processing so far, we’ve tended to filter out everything higher than 20,000 Wh. Getting to the bottom of this is one of our tasks for the future.\n",
    "\n",
    "If we accept that we have valid data in the order of ~650 devices to an LV feeder,  we could use our average household value from earlier (7400 watts) to get a rough limit (650*7400/48 ~= 100K).\n",
    "\n",
    "Or we can just use the box plot feature of display for this range to give us a 1.5xIQR limit to use (upper whisker value =  189,223) - So we can **start with a filter value of 200K.**\n"
   ]
  },
  {
   "cell_type": "code",
   "execution_count": 0,
   "metadata": {
    "application/vnd.databricks.v1+cell": {
     "cellMetadata": {
      "byteLimit": 2048000,
      "rowLimit": 10000
     },
     "inputWidgets": {},
     "nuid": "092b3fb8-9909-4c89-a8a7-24555942fde0",
     "showTitle": false,
     "tableResultSettingsMap": {},
     "title": ""
    }
   },
   "outputs": [
    {
     "output_type": "display_data",
     "data": {
      "text/plain": [
       "Databricks visualization. Run in Databricks to view."
      ]
     },
     "metadata": {
      "application/vnd.databricks.v1.subcommand+json": {
       "baseErrorDetails": null,
       "bindings": {},
       "collapsed": false,
       "command": "%python\n__backend_agg_display_orig = display\n__backend_agg_dfs = []\ndef __backend_agg_display_new(df):\n    __backend_agg_df_modules = [\"pandas.core.frame\", \"databricks.koalas.frame\", \"pyspark.sql.dataframe\", \"pyspark.pandas.frame\", \"pyspark.sql.connect.dataframe\"]\n    if (type(df).__module__ in __backend_agg_df_modules and type(df).__name__ == 'DataFrame') or isinstance(df, list):\n        __backend_agg_dfs.append(df)\n\ndisplay = __backend_agg_display_new\n\ndef __backend_agg_user_code_fn():\n    import base64\n    exec(base64.standard_b64decode(\"ZGlzcGxheSgKICByYXdfZGYuZmlsdGVyKCJhZ2dyZWdhdGVkX2RldmljZV9jb3VudF9hY3RpdmUgYmV0d2VlbiA2MDAgYW5kIDcwMCIpCikKIyMgRG9pbmcgdGhlIHNhbWUgdGhpbmcgd2l0aCBwYW5kYXMgYW5kIGdyb3VwaW5nIGJ5IGRub19hbGlhcyByZXZlYWxzIHdlIG9ubHkgaGF2ZSB0aGVzZSBjb25kaXRpb25zIGZyb20gcmVhZGluZ3MgZnJvbSB0aGUgRE5PIFNTRU4uCiMgcmF3X2RmLmZpbHRlcigiYWdncmVnYXRlZF9kZXZpY2VfY291bnRfYWN0aXZlIGJldHdlZW4gNjAwIGFuZCA3MDAiKS50b1BhbmRhcygpLmJveHBsb3QoY29sdW1uPSd0b3RhbF9jb25zdW1wdGlvbl9hY3RpdmVfaW1wb3J0JywgYnk9J2Rub19hbGlhcycp\").decode())\n\ntry:\n    # run user code\n    __backend_agg_user_code_fn()\n\n    #reset display function\n    display = __backend_agg_display_orig\n\n    if len(__backend_agg_dfs) > 0:\n        # create a temp view\n        if type(__backend_agg_dfs[0]).__module__ == \"databricks.koalas.frame\":\n            # koalas dataframe\n            __backend_agg_dfs[0].to_spark().createOrReplaceTempView(\"DatabricksView37f05a2\")\n        elif type(__backend_agg_dfs[0]).__module__ == \"pandas.core.frame\" or isinstance(__backend_agg_dfs[0], list):\n            # pandas dataframe\n            spark.createDataFrame(__backend_agg_dfs[0]).createOrReplaceTempView(\"DatabricksView37f05a2\")\n        else:\n            __backend_agg_dfs[0].createOrReplaceTempView(\"DatabricksView37f05a2\")\n        #run backend agg\n        display(spark.sql(\"\"\"WITH q AS (select * from DatabricksView37f05a2) SELECT `dno_alias`,`total_consumption_active_import`,`dno_alias` FROM q\"\"\"))\n    else:\n        displayHTML(\"dataframe no longer exists. If you're using dataframe.display(), use display(dataframe) instead.\")\n\n\nfinally:\n    spark.sql(\"drop view if exists DatabricksView37f05a2\")\n    display = __backend_agg_display_orig\n    del __backend_agg_display_new\n    del __backend_agg_display_orig\n    del __backend_agg_dfs\n    del __backend_agg_user_code_fn\n\n",
       "commandTitle": "Visualization 1",
       "commandType": "auto",
       "commandVersion": 0,
       "commentThread": [],
       "commentsVisible": false,
       "contentSha256Hex": null,
       "customPlotOptions": {
        "redashChart": [
         {
          "key": "type",
          "value": "CHART"
         },
         {
          "key": "options",
          "value": {
           "alignYAxesAtZero": true,
           "coefficient": 1,
           "columnConfigurationMap": {
            "series": {
             "column": "dno_alias",
             "id": "column_9ce91e16104"
            },
            "x": {
             "column": "dno_alias",
             "id": "column_9ce91e16102"
            },
            "y": [
             {
              "column": "total_consumption_active_import",
              "id": "column_9ce91e16103"
             }
            ]
           },
           "dateTimeFormat": "DD/MM/YYYY HH:mm",
           "direction": {
            "type": "counterclockwise"
           },
           "error_y": {
            "type": "data",
            "visible": true
           },
           "globalSeriesType": "box",
           "legend": {
            "traceorder": "normal"
           },
           "missingValuesAsZero": true,
           "numberFormat": "0,0.[00000]",
           "percentFormat": "0[.]00%",
           "series": {
            "error_y": {
             "type": "data",
             "visible": true
            },
            "stacking": null
           },
           "seriesOptions": {
            "total_consumption_active_import": {
             "type": "box",
             "yAxis": 0
            }
           },
           "showDataLabels": false,
           "sizemode": "diameter",
           "sortX": true,
           "sortY": true,
           "swappedAxes": false,
           "textFormat": "",
           "useAggregationsUi": true,
           "valuesOptions": {},
           "version": 2,
           "xAxis": {
            "labels": {
             "enabled": true
            },
            "type": "-"
           },
           "yAxis": [
            {
             "type": "-"
            },
            {
             "opposite": true,
             "type": "-"
            }
           ]
          }
         }
        ]
       },
       "datasetPreviewNameToCmdIdMap": {},
       "diffDeletes": [],
       "diffInserts": [],
       "displayType": "redashChart",
       "error": null,
       "errorDetails": null,
       "errorSummary": null,
       "errorTraceType": null,
       "finishTime": 0,
       "globalVars": {},
       "guid": "",
       "height": "auto",
       "hideCommandCode": false,
       "hideCommandResult": false,
       "iPythonMetadata": null,
       "inputWidgets": {},
       "isLockedInExamMode": false,
       "latestUser": "a user",
       "latestUserId": null,
       "listResultMetadata": null,
       "metadata": {
        "byteLimit": 2048000,
        "rowLimit": 10000
       },
       "nuid": "a66ad7ea-72d6-469d-917c-3f59d441de76",
       "origId": 0,
       "parentHierarchy": [],
       "pivotAggregation": null,
       "pivotColumns": null,
       "position": 3.119140625,
       "resultDbfsErrorMessage": null,
       "resultDbfsStatus": "INLINED_IN_TREE",
       "results": null,
       "showCommandTitle": false,
       "startTime": 0,
       "state": "input",
       "streamStates": {},
       "subcommandOptions": {
        "queryPlan": {
         "selects": [
          {
           "column": "dno_alias",
           "type": "column"
          },
          {
           "column": "total_consumption_active_import",
           "type": "column"
          },
          {
           "column": "dno_alias",
           "type": "column"
          }
         ]
        }
       },
       "submitTime": 0,
       "subtype": "tableResultSubCmd.visualization",
       "tableResultIndex": 0,
       "tableResultSettingsMap": {},
       "useConsistentColors": false,
       "version": "CommandV1",
       "width": "auto",
       "workflows": null,
       "xColumns": null,
       "yColumns": null
      }
     },
     "output_type": "display_data"
    }
   ],
   "source": [
    "display(\n",
    "  raw_df.filter(\"aggregated_device_count_active between 600 and 700\")\n",
    ")\n",
    "## Doing the same thing with pandas and grouping by dno_alias reveals we only have these conditions from readings from the DNO SSEN.\n",
    "# raw_df.filter(\"aggregated_device_count_active between 600 and 700\").toPandas().boxplot(column='total_consumption_active_import', by='dno_alias')"
   ]
  },
  {
   "cell_type": "markdown",
   "metadata": {
    "application/vnd.databricks.v1+cell": {
     "cellMetadata": {
      "byteLimit": 2048000,
      "rowLimit": 10000
     },
     "inputWidgets": {},
     "nuid": "67715b8c-2cae-4c36-b0ea-c1ecf7efd17b",
     "showTitle": false,
     "tableResultSettingsMap": {},
     "title": ""
    }
   },
   "source": [
    "## Section 3 : Thinking about our time data\n",
    "\n",
    "One limitation of the data we have is the lack of historical data. Because we're looking at just over a year of data, it's impossible to pull out seasonal trends with any certainty, and we will need to be careful to stop the model over-fitting against seasonal variations.\n",
    "\n",
    "We're not going to spend long here since we need to pre-process our data before we go too far, but we do want to consider:\n",
    "\n",
    "- Are our timestamps uniformly spaced?\n",
    "- Do we have sufficient data from each DNO over the time period?\n"
   ]
  },
  {
   "cell_type": "code",
   "execution_count": 0,
   "metadata": {
    "application/vnd.databricks.v1+cell": {
     "cellMetadata": {
      "byteLimit": 2048000,
      "rowLimit": 10000
     },
     "inputWidgets": {},
     "nuid": "2e3f8aee-7346-41ad-a5a1-20ac4e652528",
     "showTitle": true,
     "tableResultSettingsMap": {},
     "title": "Are all our timestamps on half-hour points?"
    }
   },
   "outputs": [],
   "source": [
    "# Convert our timestamps to integer representation and check the remainder after dividing by 1800 (60s * 30 mins). Anything not equal to zero implies a timestamp not sitting on a half hour window.\n",
    "(\n",
    "  raw_df.select(\"dno_alias\", \"data_collection_log_timestamp\")\n",
    "  .withColumn(\n",
    "      \"timestamp_is_not_half_hour\",\n",
    "      (F.to_unix_timestamp(\"data_collection_log_timestamp\") % 1800) != 0,\n",
    "  )\n",
    "  .filter(\"timestamp_is_not_half_hour\")\n",
    "  .count()\n",
    ")\n",
    "# We could use isEmpty() here to get a binary yes/no answer to our question, but the count is useful to give us insight into the scale of the impact."
   ]
  },
  {
   "cell_type": "code",
   "execution_count": 0,
   "metadata": {
    "application/vnd.databricks.v1+cell": {
     "cellMetadata": {
      "byteLimit": 2048000,
      "rowLimit": 10000
     },
     "inputWidgets": {},
     "nuid": "0dc8e22e-bf46-40df-82a6-1a8394c1da42",
     "showTitle": true,
     "tableResultSettingsMap": {},
     "title": "How many LV feeders have >30min gaps in samples?"
    }
   },
   "outputs": [],
   "source": [
    "# This cell takes a while to run, skip it if you like. The output is 1952629 rows with >30min gaps since last reading.\n",
    "display(\n",
    "    raw_df.withColumn(\n",
    "        \"test\",\n",
    "        F.timestamp_diff(\n",
    "            \"minute\",\n",
    "            F.lag(\"data_collection_log_timestamp\").over(\n",
    "                Window.partitionBy(\"LV_feeder_unique_id\").orderBy(\n",
    "                    \"data_collection_log_timestamp\"\n",
    "                )\n",
    "            ),\n",
    "            F.col(\"data_collection_log_timestamp\"),\n",
    "        ),\n",
    "    ).filter('test > 30').count()\n",
    ")"
   ]
  },
  {
   "cell_type": "markdown",
   "metadata": {
    "application/vnd.databricks.v1+cell": {
     "cellMetadata": {
      "byteLimit": 2048000,
      "rowLimit": 10000
     },
     "inputWidgets": {},
     "nuid": "af54d01c-ba4d-4b84-b1fc-796d090df1a8",
     "showTitle": false,
     "tableResultSettingsMap": {},
     "title": ""
    }
   },
   "source": [
    "Our first two tests look at the integrity of our timestamps.\n",
    "While we have an insigificant number of points which arn't on the 30minute mark (176 rows), we have significantly more LV feeders with gaps in the data provided (1952629 rows)"
   ]
  },
  {
   "cell_type": "markdown",
   "metadata": {
    "application/vnd.databricks.v1+cell": {
     "cellMetadata": {
      "byteLimit": 2048000,
      "rowLimit": 10000
     },
     "inputWidgets": {},
     "nuid": "53e2f30d-3425-45ad-9ce9-478495e20646",
     "showTitle": false,
     "tableResultSettingsMap": {},
     "title": ""
    }
   },
   "source": [
    "We have data for around 150K metering points across 22K half-hourly timesteps."
   ]
  },
  {
   "cell_type": "code",
   "execution_count": 0,
   "metadata": {
    "application/vnd.databricks.v1+cell": {
     "cellMetadata": {
      "byteLimit": 2048000,
      "rowLimit": 10000
     },
     "inputWidgets": {},
     "nuid": "f18d14ca-c3bf-4ea5-95a8-d2bf61fc3803",
     "showTitle": true,
     "tableResultSettingsMap": {},
     "title": "How many time steps do we have?"
    }
   },
   "outputs": [],
   "source": [
    "lv_feeder_count = (\n",
    "  raw_df\n",
    "  .select(\"lv_feeder_unique_id\")\n",
    "  .distinct()\n",
    "  .count()\n",
    "  )\n",
    "print(f\"{lv_feeder_count=:,}\")\n",
    "\n",
    "time_steps = (\n",
    "  raw_df\n",
    "  .select(\"data_collection_log_timestamp\")\n",
    "  .distinct()\n",
    "  .count()\n",
    "  )\n",
    "print(f\"{time_steps=:,}\")"
   ]
  },
  {
   "cell_type": "markdown",
   "metadata": {
    "application/vnd.databricks.v1+cell": {
     "cellMetadata": {
      "byteLimit": 2048000,
      "rowLimit": 10000
     },
     "inputWidgets": {},
     "nuid": "10a123b7-1f82-440e-9b8d-501e88ff1d6a",
     "showTitle": false,
     "tableResultSettingsMap": {},
     "title": ""
    }
   },
   "source": [
    "The data extends from early in 2024 to the end of last month."
   ]
  },
  {
   "cell_type": "code",
   "execution_count": 0,
   "metadata": {
    "application/vnd.databricks.v1+cell": {
     "cellMetadata": {
      "byteLimit": 2048000,
      "rowLimit": 10000
     },
     "inputWidgets": {},
     "nuid": "8bd21f40-4d63-4157-ab6a-355017c288b8",
     "showTitle": true,
     "tableResultSettingsMap": {},
     "title": "Whats the range of the data?"
    }
   },
   "outputs": [],
   "source": [
    "display(raw_df.groupBy()\n",
    "  .agg(\n",
    "    F.countDistinct(\"data_collection_log_timestamp\").alias(\"periods\"),\n",
    "    F.min(\"data_collection_log_timestamp\").alias(\"start\"),\n",
    "    F.max(\"data_collection_log_timestamp\").alias(\"end\")\n",
    "  )\n",
    ")"
   ]
  },
  {
   "cell_type": "code",
   "execution_count": 0,
   "metadata": {
    "application/vnd.databricks.v1+cell": {
     "cellMetadata": {
      "byteLimit": 2048000,
      "rowLimit": 10000
     },
     "inputWidgets": {},
     "nuid": "eacd5041-fa6f-4963-920f-bc0fb852c3fe",
     "showTitle": true,
     "tableResultSettingsMap": {},
     "title": "What does the trace look like for a single feeder?"
    }
   },
   "outputs": [
    {
     "output_type": "display_data",
     "data": {
      "text/plain": [
       "Databricks visualization. Run in Databricks to view."
      ]
     },
     "metadata": {
      "application/vnd.databricks.v1.subcommand+json": {
       "baseErrorDetails": null,
       "bindings": {},
       "collapsed": false,
       "command": "%python\n__backend_agg_display_orig = display\n__backend_agg_dfs = []\ndef __backend_agg_display_new(df):\n    __backend_agg_df_modules = [\"pandas.core.frame\", \"databricks.koalas.frame\", \"pyspark.sql.dataframe\", \"pyspark.pandas.frame\", \"pyspark.sql.connect.dataframe\"]\n    if (type(df).__module__ in __backend_agg_df_modules and type(df).__name__ == 'DataFrame') or isinstance(df, list):\n        __backend_agg_dfs.append(df)\n\ndisplay = __backend_agg_display_new\n\ndef __backend_agg_user_code_fn():\n    import base64\n    exec(base64.standard_b64decode(\"ZGlzcGxheSgKICByYXdfZGYud2hlcmUoJ3RvdGFsX2NvbnN1bXB0aW9uX2FjdGl2ZV9pbXBvcnQgPCAyMDAwMDAnKS53aGVyZSgibHZfZmVlZGVyX3VuaXF1ZV9pZCA9PSAnTkdFRC03MjYwMzEtMyciKQogIC53aGVyZSgiZGF0YV9jb2xsZWN0aW9uX2xvZ190aW1lc3RhbXAgPiAnMjAyNC0wOC0wMSciKQogIC5vcmRlckJ5KCJkYXRhX2NvbGxlY3Rpb25fbG9nX3RpbWVzdGFtcCIsIGFzY2VuZGluZz1UcnVlKQop\").decode())\n\ntry:\n    # run user code\n    __backend_agg_user_code_fn()\n\n    #reset display function\n    display = __backend_agg_display_orig\n\n    if len(__backend_agg_dfs) > 0:\n        # create a temp view\n        if type(__backend_agg_dfs[0]).__module__ == \"databricks.koalas.frame\":\n            # koalas dataframe\n            __backend_agg_dfs[0].to_spark().createOrReplaceTempView(\"DatabricksView0b65afc\")\n        elif type(__backend_agg_dfs[0]).__module__ == \"pandas.core.frame\" or isinstance(__backend_agg_dfs[0], list):\n            # pandas dataframe\n            spark.createDataFrame(__backend_agg_dfs[0]).createOrReplaceTempView(\"DatabricksView0b65afc\")\n        else:\n            __backend_agg_dfs[0].createOrReplaceTempView(\"DatabricksView0b65afc\")\n        #run backend agg\n        display(spark.sql(\"\"\"WITH q AS (select * from DatabricksView0b65afc) SELECT DATE_TRUNC('MINUTE',`data_collection_log_timestamp`) `column_9ce91e16129`,SUM(`total_consumption_active_import`) `column_9ce91e16115` FROM q GROUP BY `column_9ce91e16129`\"\"\"))\n    else:\n        displayHTML(\"dataframe no longer exists. If you're using dataframe.display(), use display(dataframe) instead.\")\n\n\nfinally:\n    spark.sql(\"drop view if exists DatabricksView0b65afc\")\n    display = __backend_agg_display_orig\n    del __backend_agg_display_new\n    del __backend_agg_display_orig\n    del __backend_agg_dfs\n    del __backend_agg_user_code_fn\n\n",
       "commandTitle": "Visualization 1",
       "commandType": "auto",
       "commandVersion": 0,
       "commentThread": [],
       "commentsVisible": false,
       "contentSha256Hex": null,
       "customPlotOptions": {
        "redashChart": [
         {
          "key": "type",
          "value": "CHART"
         },
         {
          "key": "options",
          "value": {
           "alignYAxesAtZero": true,
           "coefficient": 1,
           "columnConfigurationMap": {
            "x": {
             "column": "data_collection_log_timestamp",
             "id": "column_9ce91e16129",
             "transform": "MINUTE_LEVEL"
            },
            "y": [
             {
              "column": "total_consumption_active_import",
              "id": "column_9ce91e16115",
              "transform": "SUM"
             }
            ]
           },
           "dateTimeFormat": "DD/MM/YYYY HH:mm",
           "direction": {
            "type": "counterclockwise"
           },
           "error_y": {
            "type": "data",
            "visible": true
           },
           "globalSeriesType": "line",
           "isAggregationOn": true,
           "legend": {
            "traceorder": "normal"
           },
           "missingValuesAsZero": false,
           "numberFormat": "0,0.[00000]",
           "percentFormat": "0[.]00%",
           "series": {
            "error_y": {
             "type": "data",
             "visible": true
            },
            "stacking": null
           },
           "seriesOptions": {
            "column_9ce91e16110": {
             "type": "line",
             "yAxis": 0
            },
            "column_9ce91e16115": {
             "type": "line",
             "yAxis": 0
            },
            "column_9ce91e16122": {
             "type": "line",
             "yAxis": 0
            },
            "column_9ce91e16127": {
             "type": "line",
             "yAxis": 0
            }
           },
           "showDataLabels": false,
           "sizemode": "diameter",
           "sortX": true,
           "sortY": true,
           "swappedAxes": false,
           "textFormat": "",
           "useAggregationsUi": true,
           "valuesOptions": {},
           "version": 2,
           "xAxis": {
            "labels": {
             "enabled": true
            },
            "type": "-"
           },
           "yAxis": [
            {
             "title": {
              "text": "Total consumption active import"
             },
             "type": "-"
            },
            {
             "opposite": true,
             "type": "-"
            }
           ]
          }
         }
        ]
       },
       "datasetPreviewNameToCmdIdMap": {},
       "diffDeletes": [],
       "diffInserts": [],
       "displayType": "redashChart",
       "error": null,
       "errorDetails": null,
       "errorSummary": null,
       "errorTraceType": null,
       "finishTime": 0,
       "globalVars": {},
       "guid": "",
       "height": "auto",
       "hideCommandCode": false,
       "hideCommandResult": false,
       "iPythonMetadata": null,
       "inputWidgets": {},
       "isLockedInExamMode": false,
       "latestUser": "a user",
       "latestUserId": null,
       "listResultMetadata": null,
       "metadata": {
        "byteLimit": 2048000,
        "rowLimit": 10000
       },
       "nuid": "a6647403-6f65-4be5-aafd-2dab353e3bcf",
       "origId": 0,
       "parentHierarchy": [],
       "pivotAggregation": null,
       "pivotColumns": null,
       "position": 3.12158203125,
       "resultDbfsErrorMessage": null,
       "resultDbfsStatus": "INLINED_IN_TREE",
       "results": null,
       "showCommandTitle": false,
       "startTime": 0,
       "state": "input",
       "streamStates": {},
       "subcommandOptions": {
        "queryPlan": {
         "groups": [
          {
           "column": "column_9ce91e16129",
           "type": "column"
          }
         ],
         "selects": [
          {
           "alias": "column_9ce91e16129",
           "args": [
            {
             "column": "data_collection_log_timestamp",
             "type": "column"
            },
            {
             "string": "MINUTE",
             "type": "string"
            }
           ],
           "function": "DATE_TRUNC",
           "type": "function"
          },
          {
           "alias": "column_9ce91e16115",
           "args": [
            {
             "column": "total_consumption_active_import",
             "type": "column"
            }
           ],
           "function": "SUM",
           "type": "function"
          }
         ]
        }
       },
       "submitTime": 0,
       "subtype": "tableResultSubCmd.visualization",
       "tableResultIndex": 0,
       "tableResultSettingsMap": {},
       "useConsistentColors": false,
       "version": "CommandV1",
       "width": "auto",
       "workflows": null,
       "xColumns": null,
       "yColumns": null
      }
     },
     "output_type": "display_data"
    }
   ],
   "source": [
    "display(\n",
    "  raw_df.where('total_consumption_active_import < 200000').where(\"lv_feeder_unique_id == 'NGED-726031-3'\")\n",
    "  .where(\"data_collection_log_timestamp > '2024-08-01'\")\n",
    "  .orderBy(\"data_collection_log_timestamp\", ascending=True)\n",
    ")"
   ]
  },
  {
   "cell_type": "markdown",
   "metadata": {
    "application/vnd.databricks.v1+cell": {
     "cellMetadata": {
      "byteLimit": 2048000,
      "rowLimit": 10000
     },
     "inputWidgets": {},
     "nuid": "2bb82482-6d20-4801-970b-97dc8c902833",
     "showTitle": false,
     "tableResultSettingsMap": {},
     "title": ""
    }
   },
   "source": [
    "## Section 4: Working with geography\n",
    "\n",
    "We can also take a look at the regional coverage of this dataset by plotting the locations of the LV feeders on a slippy map."
   ]
  },
  {
   "cell_type": "code",
   "execution_count": 0,
   "metadata": {
    "application/vnd.databricks.v1+cell": {
     "cellMetadata": {
      "byteLimit": 2048000,
      "rowLimit": 10000
     },
     "inputWidgets": {},
     "nuid": "60902916-4945-43cf-81d4-b753e374393e",
     "showTitle": false,
     "tableResultSettingsMap": {},
     "title": ""
    }
   },
   "outputs": [],
   "source": [
    "lv_feeder_locations_pdf = (\n",
    "  raw_df\n",
    "  .where(~(F.col(\"geometry.x\") == \"NaN\"))\n",
    "  .where(~(F.col(\"geometry.y\") == \"NaN\"))\n",
    "  .groupby('lv_feeder_unique_id')\n",
    "  .agg(F.first(\"geometry\").alias('geometry'))\n",
    "  .select(\"lv_feeder_unique_id\", \"geometry.*\")\n",
    "  .toPandas()\n",
    "  )"
   ]
  },
  {
   "cell_type": "code",
   "execution_count": 0,
   "metadata": {
    "application/vnd.databricks.v1+cell": {
     "cellMetadata": {
      "byteLimit": 2048000,
      "rowLimit": 10000
     },
     "inputWidgets": {},
     "nuid": "e5c0ed38-27d8-4ec9-a7a2-121fdad9292c",
     "showTitle": false,
     "tableResultSettingsMap": {},
     "title": ""
    }
   },
   "outputs": [],
   "source": [
    "to_geodf(lv_feeder_locations_pdf, 0.005).explore()"
   ]
  }
 ],
 "metadata": {
  "application/vnd.databricks.v1+notebook": {
   "computePreferences": null,
   "dashboards": [],
   "environmentMetadata": {
    "base_environment": "",
    "environment_version": "2"
   },
   "inputWidgetPreferences": null,
   "language": "python",
   "notebookMetadata": {
    "mostRecentlyExecutedCommandWithImplicitDF": {
     "commandId": 3394427869904338,
     "dataframes": [
      "_sqldf"
     ]
    },
    "pythonIndentUnit": 2
   },
   "notebookName": "02_interactive_exploration",
   "widgets": {}
  },
  "language_info": {
   "name": "python"
  }
 },
 "nbformat": 4,
 "nbformat_minor": 0
}
