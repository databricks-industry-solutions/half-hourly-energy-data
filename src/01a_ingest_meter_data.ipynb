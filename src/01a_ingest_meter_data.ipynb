{
 "cells": [
  {
   "cell_type": "markdown",
   "metadata": {
    "application/vnd.databricks.v1+cell": {
     "cellMetadata": {},
     "inputWidgets": {},
     "nuid": "1ddd2df5-139c-4514-9534-a249f54eea43",
     "showTitle": false,
     "tableResultSettingsMap": {},
     "title": ""
    }
   },
   "source": [
    "## 01 - Acquiring smart meter data\n",
    "\n",
    "In this notebook, we will download a recent extract of smart meter data from [Weave](https://weave.energy/about), an organisation that aims to improve access to energy data.\n",
    "\n",
    "Weave collect and disseminate smart meter data from four UK DNOs. Rather than providing data at the individual consumer level, this dataset is aggregated to the low-voltage feeder level.\n",
    "\n",
    "We're looking at the top row of this diagram:\n",
    "\n",
    "<img src=\"../docs/imgs/energy-sa-ingest-flow.png\" width=\"800\">\n",
    "\n",
    "\n",
    "\n",
    "\n",
    "### What does this notebook do?\n",
    "\n",
    "Since the data is already in a public S3 bucket, we have two options:\n",
    "1. Clone the source data into our enviroment and save it as a table.\n",
    "2. Skip the raw clone and go straight to pre-processing the data.\n",
    "\n",
    "We're going with option 1, but feel free to modify the code in subsequent notebooks ! 🔧\n",
    "\n"
   ]
  },
  {
   "cell_type": "code",
   "execution_count": 0,
   "metadata": {
    "application/vnd.databricks.v1+cell": {
     "cellMetadata": {
      "byteLimit": 2048000,
      "rowLimit": 10000
     },
     "inputWidgets": {},
     "nuid": "11901030-c2e0-433c-994d-29fb5272ee9c",
     "showTitle": false,
     "tableResultSettingsMap": {},
     "title": ""
    },
    "jupyter": {
     "outputs_hidden": true
    }
   },
   "outputs": [],
   "source": [
    "%run ./includes/common_functions_and_imports"
   ]
  },
  {
   "cell_type": "code",
   "execution_count": 0,
   "metadata": {
    "application/vnd.databricks.v1+cell": {
     "cellMetadata": {
      "byteLimit": 2048000,
      "rowLimit": 10000
     },
     "inputWidgets": {},
     "nuid": "6cf2953f-20d7-42a2-9fcb-65ace7368f12",
     "showTitle": true,
     "tableResultSettingsMap": {},
     "title": "Load data and overwrite target table"
    }
   },
   "outputs": [],
   "source": [
    "meter_data_uri = \"s3://weave.energy/smart-meter\"\n",
    "target_table_name = (\n",
    "    f\"{CONFIG.target_catalog}.{CONFIG.target_schema}.smart_meter_data_raw\"\n",
    ")\n",
    "\n",
    "print(f\"Pipeline is set to clone_raw_data: {CONFIG.clone_raw_data}\")\n",
    "\n",
    "if not CONFIG.clone_raw_data:\n",
    "    dbutils.notebook.exit(\n",
    "        f\"Skipping clone of raw data from {meter_data_uri} to {target_table_name}\"\n",
    "    )\n",
    "    \n",
    "# Write to our lakehouse by reading directly from a public S3 bucket.\n",
    "if spark.catalog.tableExists(target_table_name) or CONFIG.overwrite_data:\n",
    "    (\n",
    "        spark.read.format(\"parquet\")\n",
    "        .load(meter_data_uri)\n",
    "        .write.saveAsTable(target_table_name, mode=\"overwrite\")\n",
    "    )"
   ]
  }
 ],
 "metadata": {
  "application/vnd.databricks.v1+notebook": {
   "computePreferences": null,
   "dashboards": [],
   "environmentMetadata": {
    "base_environment": "",
    "environment_version": "2"
   },
   "inputWidgetPreferences": null,
   "language": "python",
   "notebookMetadata": {
    "pythonIndentUnit": 2
   },
   "notebookName": "01a_ingest_meter_data",
   "widgets": {}
  },
  "language_info": {
   "name": "python"
  }
 },
 "nbformat": 4,
 "nbformat_minor": 0
}
